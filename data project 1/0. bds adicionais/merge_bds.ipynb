{
 "cells": [
  {
   "cell_type": "code",
   "execution_count": 1,
   "metadata": {},
   "outputs": [],
   "source": [
    "import pandas as pd\n",
    "import glob"
   ]
  },
  {
   "cell_type": "code",
   "execution_count": 4,
   "metadata": {},
   "outputs": [],
   "source": [
    "# Lista todos os arquivos CSV no diretório atual que começam com 'atp_matches_'\n",
    "file_list = glob.glob('atp_matches_*.csv')\n",
    "\n",
    "# Lista para armazenar os DataFrames de cada arquivo CSV\n",
    "dfs = []\n",
    "\n",
    "# Loop através de cada arquivo CSV, carrega-o como um DataFrame e adiciona à lista\n",
    "for filename in file_list:\n",
    "    dfs.append(pd.read_csv(filename))\n",
    "\n",
    "# Concatena todos os DataFrames da lista em um único DataFrame\n",
    "combined_df = pd.concat(dfs, ignore_index=True)\n",
    "\n",
    "# Salva o DataFrame combinado em um novo arquivo CSV\n",
    "combined_df.to_csv('combined_atp_matches.csv', index=False)"
   ]
  },
  {
   "cell_type": "code",
   "execution_count": null,
   "metadata": {},
   "outputs": [],
   "source": []
  }
 ],
 "metadata": {
  "kernelspec": {
   "display_name": "base",
   "language": "python",
   "name": "python3"
  },
  "language_info": {
   "codemirror_mode": {
    "name": "ipython",
    "version": 3
   },
   "file_extension": ".py",
   "mimetype": "text/x-python",
   "name": "python",
   "nbconvert_exporter": "python",
   "pygments_lexer": "ipython3",
   "version": "3.9.12"
  }
 },
 "nbformat": 4,
 "nbformat_minor": 2
}
