{
 "cells": [
  {
   "attachments": {},
   "cell_type": "markdown",
   "metadata": {},
   "source": [
    "### Estrutura de Dados e Algoritmos\n",
    "#### Carregamento e ordenação de Big Data"
   ]
  },
  {
   "attachments": {},
   "cell_type": "markdown",
   "metadata": {},
   "source": [
    "### a)"
   ]
  },
  {
   "cell_type": "code",
   "execution_count": 2,
   "metadata": {},
   "outputs": [],
   "source": [
    "# importação das bibliotecas utilizadas no projeto\n",
    "\n",
    "import csv\n",
    "from itertools import islice\n",
    "import pandas as pd\n",
    "import time\n",
    "import matplotlib.pyplot as plt"
   ]
  },
  {
   "cell_type": "code",
   "execution_count": 3,
   "metadata": {},
   "outputs": [],
   "source": [
    "def partitions(file_path, n):\n",
    "    # abertura do csv em modo leitura (\"r\") com o with para garantir que o arquivo é fechado após ser utilizado\n",
    "    with open(file_path, \"r\") as file:\n",
    "        # criar o objeto file_reader que permite ler o arquivo CSV como uma lista de listas - quando se utiliza a função open() anteriormente com o argumento \"r\", estamos a abrir o arquivo no modo de leitura. Por esse motivo, csv.reader(file) cria um objeto leitor para ler o arquivo, mas ainda não o lê\n",
    "        file_reader = csv.reader(file)\n",
    "        # ler a primeira linha que corresponde ao header fora do loop, guardando-o na variável header\n",
    "        header = next(file_reader)\n",
    "        # dentro do loop, vamos iterar sobre o ficheiro que abrimos, utilizando a função islice para dividir o arquivo em partições de tamanho \"n\"\n",
    "        # a função iter serve para criar o iterador que chama a função lambda a cada iteração e esta utiliza o islice para criar as partições - a iteração continua ate a lista que o lambda devolve seja vazia - o lambda é necessário porque o iter requer um callable object\n",
    "        for chunk in iter(lambda: list(islice(file_reader, n)), []):\n",
    "            # o yield devolve um gerador que permite iterar sobre as partições do arquivo sem que tenham de ser carregadas todas na memória ao mesmo tempo\n",
    "            yield chunk"
   ]
  },
  {
   "cell_type": "code",
   "execution_count": 4,
   "metadata": {},
   "outputs": [
    {
     "data": {
      "text/plain": [
       "[['-4477939'],\n",
       " ['5934533'],\n",
       " ['7235764'],\n",
       " ['2946405'],\n",
       " ['5685463'],\n",
       " ['-7649902'],\n",
       " ['-1107508'],\n",
       " ['-6516266'],\n",
       " ['1037602'],\n",
       " ['7594309']]"
      ]
     },
     "execution_count": 4,
     "metadata": {},
     "output_type": "execute_result"
    }
   ],
   "source": [
    "# TESTES\n",
    "\n",
    "a = partitions('data.csv', 10) # retorna um iterador com partições de 10 linhas cada apenas para efeitos de teste\n",
    "\n",
    "# aceder à terceira partição\n",
    "next(a)\n",
    "next(a)\n",
    "next(a)"
   ]
  },
  {
   "attachments": {},
   "cell_type": "markdown",
   "metadata": {},
   "source": [
    "### b)"
   ]
  },
  {
   "cell_type": "code",
   "execution_count": 5,
   "metadata": {},
   "outputs": [],
   "source": [
    "def sorting(lst, ascending):\n",
    "    # Caso base -> quando o len() da lista é menor ou igual a 1\n",
    "    if len(lst) <= 1:\n",
    "        # devolve a lista, o número de iterações para dividir a lista, o mínimo e máximo, respetivamente\n",
    "        return lst, 0, lst[0], lst[0]\n",
    "    \n",
    "    # Dividir a lista ao meio e chamar recursivamente a função sorting em cada parte\n",
    "    # encontrar a posição do meio\n",
    "    mid = len(lst) // 2\n",
    "    # atribuição da parte esquerda da lista e respetivos valores à esquerda (conforme definido no caso base)\n",
    "    left, left_iterations, left_min, left_max = sorting(lst[:mid], ascending)\n",
    "    # realizar o mesmo para a parte direita da lista\n",
    "    right, right_iterations, right_min, right_max = sorting(lst[mid:], ascending)\n",
    "\n",
    "    # criar a lista vazia onde serão colocados os elementos ordenados\n",
    "    merged = []\n",
    "    # atribuições\n",
    "    i = j = 0\n",
    "    iterations = 0 \n",
    "    \n",
    "    # iterar pelas posições da lista e comparar o menor valor entre cada\n",
    "    while i < len(left) and j < len(right):\n",
    "        # caso se pretenda em ordem crescente\n",
    "        if ascending:\n",
    "            if left[i] <= right[j]:\n",
    "                merged.append(left[i])\n",
    "                i = i+1 \n",
    "            else: \n",
    "                merged.append(right[j])\n",
    "                j = j+1\n",
    "        # para ordem decrescente\n",
    "        else:\n",
    "            if left[i] >= right[j]:\n",
    "                merged.append(left[i])\n",
    "                i = i+1\n",
    "            else:\n",
    "                merged.append(right[j])\n",
    "                j = j+1\n",
    "        iterations = iterations +1 \n",
    "\n",
    "    # caso uma das partes termine primeiro, adicionar os restantes elementos em falta\n",
    "    merged = merged + left[i:]\n",
    "    merged = merged + right[j:]\n",
    "\n",
    "    # devolve a lista ordenada e o número de iterações\n",
    "    return merged, left_iterations + right_iterations + iterations, min(left_min, right_min), max(left_max, right_max)"
   ]
  },
  {
   "cell_type": "code",
   "execution_count": 6,
   "metadata": {},
   "outputs": [
    {
     "name": "stdout",
     "output_type": "stream",
     "text": [
      "[-51, -33, -21, 0, 1, 3, 12, 12, 12, 1000]\n",
      "20\n",
      "-51\n",
      "1000\n"
     ]
    }
   ],
   "source": [
    "# TESTES \n",
    "\n",
    "teste = [1,12,-21,3,12, -33, -51, 0, 12, 1000]\n",
    "teste_ordenado, iteracoes, valor_min, valor_max = sorting(teste, True)\n",
    "print(teste_ordenado)\n",
    "print(iteracoes)\n",
    "print(valor_min)\n",
    "print(valor_max)"
   ]
  },
  {
   "attachments": {},
   "cell_type": "markdown",
   "metadata": {},
   "source": [
    "### c)"
   ]
  },
  {
   "cell_type": "code",
   "execution_count": 7,
   "metadata": {},
   "outputs": [],
   "source": [
    "def execute(data, n, ascending):\n",
    "    # lista vazia onde iremos guardar os resultados de cada partição\n",
    "    results = []\n",
    "    \n",
    "    # percorrer as várias as partições do ficheiro\n",
    "    for i in partitions(data, n):\n",
    "        # começar a contagem do tempo da iteração \n",
    "        start_time = time.time()\n",
    "    \n",
    "        # guardar a partição na variável partition_data\n",
    "        partition_data = i[:]\n",
    "        \n",
    "        # transformar cada partição em listas de valores numéricos, em vez de listas de listas de strings\n",
    "        partition_numbers = [[float(x) for x in row][0] for row in partition_data]\n",
    "        \n",
    "        # fazer a ordenação através do algoritmo merge sort desenvolvido acima para cada partição e medir o tempo de execução\n",
    "        sorted_partition, iterations, min_val, max_val = sorting(partition_numbers, ascending)\n",
    "        end_time = time.time()\n",
    "        execution_time = end_time - start_time\n",
    "        \n",
    "        # criar um dicionário com as informações pedidas no enunciado\n",
    "        partition_info = {\n",
    "            'Tempo de execução': execution_time,\n",
    "            'Número de iterações': iterations,\n",
    "            'Valor mínimo': min_val,\n",
    "            'Valor máximo': max_val\n",
    "        }\n",
    "        \n",
    "        # adicionar o dicionário à lista de resultados de forma a guardar todos este conjunto de informações para cada uma das partições percorridas\n",
    "        results.append(partition_info)\n",
    "    \n",
    "    # criar um DataFrame através do pandas com os resultados obtidos\n",
    "    results_df = pd.DataFrame(results)\n",
    "    \n",
    "    return results_df\n"
   ]
  },
  {
   "cell_type": "code",
   "execution_count": 8,
   "metadata": {},
   "outputs": [
    {
     "data": {
      "text/html": [
       "<div>\n",
       "<style scoped>\n",
       "    .dataframe tbody tr th:only-of-type {\n",
       "        vertical-align: middle;\n",
       "    }\n",
       "\n",
       "    .dataframe tbody tr th {\n",
       "        vertical-align: top;\n",
       "    }\n",
       "\n",
       "    .dataframe thead th {\n",
       "        text-align: right;\n",
       "    }\n",
       "</style>\n",
       "<table border=\"1\" class=\"dataframe\">\n",
       "  <thead>\n",
       "    <tr style=\"text-align: right;\">\n",
       "      <th></th>\n",
       "      <th>Tempo de execução</th>\n",
       "      <th>Número de iterações</th>\n",
       "      <th>Valor mínimo</th>\n",
       "      <th>Valor máximo</th>\n",
       "    </tr>\n",
       "  </thead>\n",
       "  <tbody>\n",
       "    <tr>\n",
       "      <th>0</th>\n",
       "      <td>0.049045</td>\n",
       "      <td>120448</td>\n",
       "      <td>-9999322.0</td>\n",
       "      <td>9998421.0</td>\n",
       "    </tr>\n",
       "    <tr>\n",
       "      <th>1</th>\n",
       "      <td>0.049548</td>\n",
       "      <td>120434</td>\n",
       "      <td>-9998989.0</td>\n",
       "      <td>9999685.0</td>\n",
       "    </tr>\n",
       "    <tr>\n",
       "      <th>2</th>\n",
       "      <td>0.050045</td>\n",
       "      <td>120398</td>\n",
       "      <td>-9997561.0</td>\n",
       "      <td>9997751.0</td>\n",
       "    </tr>\n",
       "    <tr>\n",
       "      <th>3</th>\n",
       "      <td>0.049549</td>\n",
       "      <td>120358</td>\n",
       "      <td>-9999516.0</td>\n",
       "      <td>9998508.0</td>\n",
       "    </tr>\n",
       "    <tr>\n",
       "      <th>4</th>\n",
       "      <td>0.050045</td>\n",
       "      <td>120514</td>\n",
       "      <td>-9998999.0</td>\n",
       "      <td>9993862.0</td>\n",
       "    </tr>\n",
       "    <tr>\n",
       "      <th>5</th>\n",
       "      <td>0.048548</td>\n",
       "      <td>120565</td>\n",
       "      <td>-9995856.0</td>\n",
       "      <td>9997894.0</td>\n",
       "    </tr>\n",
       "    <tr>\n",
       "      <th>6</th>\n",
       "      <td>0.047555</td>\n",
       "      <td>120504</td>\n",
       "      <td>-9992924.0</td>\n",
       "      <td>9998218.0</td>\n",
       "    </tr>\n",
       "    <tr>\n",
       "      <th>7</th>\n",
       "      <td>0.050037</td>\n",
       "      <td>120538</td>\n",
       "      <td>-9999841.0</td>\n",
       "      <td>9999404.0</td>\n",
       "    </tr>\n",
       "    <tr>\n",
       "      <th>8</th>\n",
       "      <td>0.048558</td>\n",
       "      <td>120489</td>\n",
       "      <td>-9999404.0</td>\n",
       "      <td>9992423.0</td>\n",
       "    </tr>\n",
       "    <tr>\n",
       "      <th>9</th>\n",
       "      <td>0.049044</td>\n",
       "      <td>120493</td>\n",
       "      <td>-9997038.0</td>\n",
       "      <td>9999991.0</td>\n",
       "    </tr>\n",
       "  </tbody>\n",
       "</table>\n",
       "</div>"
      ],
      "text/plain": [
       "   Tempo de execução  Número de iterações  Valor mínimo  Valor máximo\n",
       "0           0.049045               120448    -9999322.0     9998421.0\n",
       "1           0.049548               120434    -9998989.0     9999685.0\n",
       "2           0.050045               120398    -9997561.0     9997751.0\n",
       "3           0.049549               120358    -9999516.0     9998508.0\n",
       "4           0.050045               120514    -9998999.0     9993862.0\n",
       "5           0.048548               120565    -9995856.0     9997894.0\n",
       "6           0.047555               120504    -9992924.0     9998218.0\n",
       "7           0.050037               120538    -9999841.0     9999404.0\n",
       "8           0.048558               120489    -9999404.0     9992423.0\n",
       "9           0.049044               120493    -9997038.0     9999991.0"
      ]
     },
     "execution_count": 8,
     "metadata": {},
     "output_type": "execute_result"
    }
   ],
   "source": [
    "# TESTES \n",
    "\n",
    "execute(\"data.csv\", 10000, True)"
   ]
  },
  {
   "attachments": {},
   "cell_type": "markdown",
   "metadata": {},
   "source": [
    "### d)"
   ]
  },
  {
   "cell_type": "code",
   "execution_count": 23,
   "metadata": {},
   "outputs": [
    {
     "data": {
      "image/png": "[encoded data removed]",
      "text/plain": [
       "<Figure size 432x288 with 1 Axes>"
      ]
     },
     "metadata": {
      "needs_background": "light"
     },
     "output_type": "display_data"
    }
   ],
   "source": [
    "# valores a testar\n",
    "test_values = [1, 100, 250, 500]\n",
    "\n",
    "# criar a lista times onde iremos armazenar os resultados dos respetivos tempos de execução para cada valor a testar\n",
    "times = []\n",
    "\n",
    "# percorrer os diferentes valores a testar para n que foram escolhidos e guardados em test_values\n",
    "for i in test_values:\n",
    "    result = execute(\"data.csv\", i, True)\n",
    "    total_time = result['Tempo de execução'].sum()\n",
    "    times.append(total_time)\n",
    "\n",
    "# desenvolver o gráfico com os tempos de execução para cada valor de n\n",
    "plt.plot(test_values, times)\n",
    "plt.title('Tempo de execução para diferentes valores de n')\n",
    "plt.xlabel('n')\n",
    "plt.ylabel('Tempo (s)')\n",
    "plt.show()"
   ]
  },
  {
   "cell_type": "code",
   "execution_count": 30,
   "metadata": {},
   "outputs": [
    {
     "name": "stdout",
     "output_type": "stream",
     "text": [
      "Mínimo: -9999841.0\n",
      "Máximo: 9999991.0\n"
     ]
    }
   ],
   "source": [
    "a = execute(\"data.csv\", 1, True)\n",
    "print(\"Mínimo:\", a['Valor mínimo'].min())\n",
    "print(\"Máximo:\", a['Valor máximo'].max())"
   ]
  },
  {
   "attachments": {},
   "cell_type": "markdown",
   "metadata": {},
   "source": [
    "Realizado por:\n",
    "- João Dias nº 110305\n",
    "- David Franco nº 110733 "
   ]
  }
 ],
 "metadata": {
  "kernelspec": {
   "display_name": "base",
   "language": "python",
   "name": "python3"
  },
  "language_info": {
   "codemirror_mode": {
    "name": "ipython",
    "version": 3
   },
   "file_extension": ".py",
   "mimetype": "text/x-python",
   "name": "python",
   "nbconvert_exporter": "python",
   "pygments_lexer": "ipython3",
   "version": "3.9.12"
  },
  "orig_nbformat": 4,
  "vscode": {
   "interpreter": {
    "hash": "03244324ea5ab45df864bf71cde3f5c18aba38ee2199e9c7a316a8540f6573f0"
   }
  }
 },
 "nbformat": 4,
 "nbformat_minor": 2
}
