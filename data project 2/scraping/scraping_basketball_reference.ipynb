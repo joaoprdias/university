{
 "cells": [
  {
   "cell_type": "markdown",
   "metadata": {},
   "source": [
    "# <p style=\"color:#1BD1E7; font-size:1.5em\">**Projeto Aplicado em Ciência de Dados II**</p> \n",
    "## <p style=\"color:#1BD1E7; font-size:1em\">**Clusters de performance na NBA**</p> \n",
    "\n",
    "---\n",
    "\n",
    "* António Teotónio - 111283\n",
    "\n",
    "* João Batista - 111611\n",
    "\n",
    "* João Dias - 110305\n",
    "\n",
    "* Felipe Pereira - 110861\n",
    "\n",
    "* David Franco - 110733\n",
    "\n",
    "--- "
   ]
  },
  {
   "cell_type": "markdown",
   "metadata": {},
   "source": [
    "### Import das bibliotecas utilizadas"
   ]
  },
  {
   "cell_type": "code",
   "execution_count": 3,
   "metadata": {},
   "outputs": [],
   "source": [
    "from selenium import webdriver\n",
    "import time\n",
    "from selenium.webdriver.chrome.service import Service\n",
    "import pandas as pd\n",
    "from selenium.webdriver.common.by import By\n",
    "\n",
    "path = './chromedriver.exe'"
   ]
  },
  {
   "cell_type": "markdown",
   "metadata": {},
   "source": [
    "### Execução"
   ]
  },
  {
   "cell_type": "markdown",
   "metadata": {},
   "source": [
    "Este notebook faz o web scraping de todas as estatísticas dos jogadores na página do Basketball Reference (Daily Leaders) por mês. O output é um ficheiro csv com a performance de todos os jogadores em todos os jogos do mês em questão. Deve ser executado tantas vezes quantos meses se queiram extrair (com os devidos ajustes nas variáveis). Todos os datasets gerados foram guardados na pasta datasets_23_24_season\n",
    "- Para executar é necessário descarregar o chromedriver tendo em conta a versão do Google Chrome que está a ser utilizada. Pode ver-se mais informação aqui: https://developer.chrome.com/docs/chromedriver/downloads\n",
    "- De seguida é necessário ajustar manualmente as variáveis month, day_i, year. \n",
    "- Ajustar o número de dias dentro do for loop a scrapear `for day in range(day, day+32)`"
   ]
  },
  {
   "cell_type": "code",
   "execution_count": null,
   "metadata": {},
   "outputs": [],
   "source": [
    "# Cria uma instância do Service com o caminho do chromedriver\n",
    "service = Service(executable_path=path)\n",
    "# Inicializa o driver passando o serviço\n",
    "driver = webdriver.Chrome(service=service)\n",
    "\n",
    "# É necessário ajustar estas variáveis manualmente\n",
    "month = 3\n",
    "year = 2024\n",
    "day_i = 1\n",
    "day = day_i\n",
    "\n",
    "# URLs a fazer scraping\n",
    "urls = []\n",
    "for day in range(day, day+32):\n",
    "    urls.append(f\"https://www.basketball-reference.com/friv/dailyleaders.fcgi?month={month}&day={day}&year={year}&type=all\")\n",
    "\n",
    "# Criar uma lista para armazenar os dados\n",
    "data = []\n",
    "\n",
    "# Aceder a cada URL e realizar o scraping\n",
    "for i, url in enumerate(urls):\n",
    "    driver.get(url)\n",
    "    time.sleep(5)  # Esperar 5 segundos para a página carregar\n",
    "    \n",
    "    # Obter o dia atual\n",
    "    day_f = day_i\n",
    "    current_day = day_f + i  \n",
    "\n",
    "    try:\n",
    "        # Localizar a tabela na página\n",
    "        table = driver.find_element(By.XPATH, '//table[@id=\"stats\"]')  \n",
    "        \n",
    "        # Extrair os dados da tabela\n",
    "        rows = table.find_elements(By.TAG_NAME, 'tr')\n",
    "        \n",
    "        for row in rows:\n",
    "            cols = row.find_elements(By.TAG_NAME, 'td')\n",
    "            # Verificar se há colunas na linha\n",
    "            if len(cols) > 0:\n",
    "                row_data = [col.text for col in cols]\n",
    "                date = f\"{year}-{month:02d}-{current_day:02d}\"  \n",
    "                row_data.append(date)\n",
    "                data.append(row_data) \n",
    "                print(row_data)  \n",
    "\n",
    "    except Exception as e:\n",
    "        print(f\"Erro ao acessar a tabela na URL {url}: {e}\")\n",
    "\n",
    "# Criar um DataFrame com os dados recolhidos\n",
    "columns = [\"Player\", \"Tm\", \"vs\", \"Opp\", \"W/L\", \"MP\", \"FG\", \"FGA\", \"FG%\", \"3P\", \"3PA\", \"3P%\", \"FT\", \"FTA\", \"FT%\", \"ORB\", \"DRB\", \"TRB\", \"AST\", \"STL\", \"BLK\", \"TOV\", \"PF\", \"PTS\", \"+/-\", \"GmSc\", 'Date']\n",
    "df = pd.DataFrame(data, columns=columns)\n",
    "\n",
    "print(df)\n",
    "\n",
    "# Fechar o driver\n",
    "driver.quit()\n"
   ]
  },
  {
   "cell_type": "code",
   "execution_count": 6,
   "metadata": {},
   "outputs": [],
   "source": [
    "# Guarda o df num csv\n",
    "df.to_csv('dailyleaders.csv', index=False)"
   ]
  }
 ],
 "metadata": {
  "kernelspec": {
   "display_name": "base",
   "language": "python",
   "name": "python3"
  },
  "language_info": {
   "codemirror_mode": {
    "name": "ipython",
    "version": 3
   },
   "file_extension": ".py",
   "mimetype": "text/x-python",
   "name": "python",
   "nbconvert_exporter": "python",
   "pygments_lexer": "ipython3",
   "version": "3.9.12"
  }
 },
 "nbformat": 4,
 "nbformat_minor": 2
}
