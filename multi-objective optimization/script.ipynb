{
 "cells": [
  {
   "cell_type": "markdown",
   "metadata": {},
   "source": [
    "### Trabalho individual 1\n",
    "João Pedro Rolim Dias, nº 110305, CDB1"
   ]
  },
  {
   "cell_type": "code",
   "execution_count": 1,
   "metadata": {},
   "outputs": [],
   "source": [
    "# Setup inicial e import de bibliotecas utilizadas no projeto\n",
    "import pandas as pd\n",
    "from pulp import LpMaximize, LpMinimize, LpProblem, LpStatus, lpSum, LpVariable, GLPK\n",
    "import numpy as np"
   ]
  },
  {
   "cell_type": "markdown",
   "metadata": {},
   "source": [
    "---\n",
    "Variáveis de decisão: \n",
    "- x1 - número de centenas de kits básicos a enviar.\n",
    "- x2 - número de centenas de kits avançados a enviar.\n",
    "- x3 - número de centenas de kits premium a enviar.\n",
    "---\n",
    "- Custo (C) na FO em milhares de €.\n",
    "- Em rigor deveria ser um problema de programação linear inteira, porque não há menção as meios kits, mas para efeitos de simplificação da formulação vamos considerar como um problema de programação linear. \n",
    "\n",
    "## a) Formulação do problema em programação linear\n",
    "##### $\\min C = 30x_1 + 35x_2 + 105x_3$ (objetivo 1 de minimizar o custo)\n",
    "##### $\\max K = x_1 + x_2 + x_3$ (objetivo 2 de maximizar o envio dos kits)\n",
    "\n",
    "#####   s.a.: $x_3 \\geq 30$ (restrição de enviar pelo menos os 3000 kits premium, ajustada ao facto de estarmos a lidar com centenas)\n",
    "#####         $3000x_1 + 3500x_2 + 5400x_3 \\geq 2100000$ (restrição de ajudar pelo menos 2.1 milhões de habitantes do país)\n",
    "#####         $12x_1 + 18x_2 + 22x_3 \\leq 10000$ (restrição de transporte, ajustada ao facto de a informação de cada kit ser apresentada em toneladas)\n",
    "#####         $x_1, x_2 \\geq 0$ (restrição de kits não negativos)"
   ]
  },
  {
   "cell_type": "markdown",
   "metadata": {},
   "source": [
    "## b) Verificação de propostas admissíveis e de soluções dominadas"
   ]
  },
  {
   "cell_type": "code",
   "execution_count": 2,
   "metadata": {},
   "outputs": [
    {
     "name": "stdout",
     "output_type": "stream",
     "text": [
      "Proposta: Proposta 1\n",
      "Admissível: True\n",
      "Custo Total: 22530\n",
      "Centenas de Kits Enviados: 610\n",
      "-\n",
      "Proposta: Proposta 2\n",
      "Admissível: True\n",
      "Custo Total: 22530\n",
      "Centenas de Kits Enviados: 676\n",
      "-\n",
      "Proposta: Proposta 3\n",
      "Admissível: True\n",
      "Custo Total: 26120\n",
      "Centenas de Kits Enviados: 795\n",
      "-\n",
      "Proposta: Proposta 4\n",
      "Admissível: True\n",
      "Custo Total: 26100\n",
      "Centenas de Kits Enviados: 795\n",
      "-\n"
     ]
    }
   ],
   "source": [
    "# Função para verificar se uma proposta é admissível\n",
    "def verificar_admissibilidade(x1, x2, x3):\n",
    "    # Verificar se atende a todas as restrições\n",
    "    return (3000*x1 + 3500*x2 + 5400*x3 >= 2100000) and (x3 >= 30) and (12*x1 + 18*x2 + 22*x3 <= 10000) and (x1 >= 0) and (x2 >= 0)\n",
    "\n",
    "# Função para calcular o número total de kits enviados em uma proposta\n",
    "def calcular_total_kits(x1, x2, x3):\n",
    "    return x1 + x2 + x3\n",
    "\n",
    "# Função para calcular o custo total de uma proposta (em milhares de euros)\n",
    "def calcular_custo_total(x1, x2, x3):\n",
    "    return 30*x1 + 35*x2 + 105*x3\n",
    "\n",
    "# Lista de propostas\n",
    "propostas = [\n",
    "    {\"nome\": \"Proposta 1\", \"kits_basicos\": 184, \"kits_avancados\": 396, \"kits_premium\": 30},\n",
    "    {\"nome\": \"Proposta 2\", \"kits_basicos\": 646, \"kits_avancados\": 0, \"kits_premium\": 30},\n",
    "    {\"nome\": \"Proposta 3\", \"kits_basicos\": 761, \"kits_avancados\": 4, \"kits_premium\": 30},\n",
    "    {\"nome\": \"Proposta 4\", \"kits_basicos\": 765, \"kits_avancados\": 0, \"kits_premium\": 30}\n",
    "]\n",
    "\n",
    "# Verificar admissibilidade, calcular custo total (em milhares de euros) e número total de kits enviados para cada proposta\n",
    "for proposta in propostas:\n",
    "    custo_total = calcular_custo_total(proposta[\"kits_basicos\"], proposta[\"kits_avancados\"], proposta[\"kits_premium\"])\n",
    "    admissivel = verificar_admissibilidade(proposta[\"kits_basicos\"], proposta[\"kits_avancados\"], proposta[\"kits_premium\"])\n",
    "    total_kits = calcular_total_kits(proposta[\"kits_basicos\"], proposta[\"kits_avancados\"], proposta[\"kits_premium\"])\n",
    "    \n",
    "    print(\"Proposta:\", proposta[\"nome\"])\n",
    "    print(\"Admissível:\", admissivel)\n",
    "    print(\"Custo Total:\", custo_total)\n",
    "    print(\"Centenas de Kits Enviados:\", total_kits)\n",
    "    print(\"-\")"
   ]
  },
  {
   "cell_type": "markdown",
   "metadata": {},
   "source": [
    "##### Principais conclusões da alínea b): \n",
    "- São todas soluções admissíveis porque respeitam todas as restrições; \n",
    "- A proposta 2 domina a proposta 1, porque permite enviar mais kits com o mesmo custo; \n",
    "- A proposta 4 domina a proposta 3 porque permite enviar o mesmo número de kits a um custo mais baixo."
   ]
  },
  {
   "cell_type": "markdown",
   "metadata": {},
   "source": [
    "## c) Quantos kits básicos, avançados e premium deve a organização enviar para o país se a organização estiver interessada, exclusivamente, num dos objetivos? É possível atingir os dois objetivos em simultâneo? "
   ]
  },
  {
   "cell_type": "markdown",
   "metadata": {},
   "source": [
    "### (i) Minimização do custo da ajuda humanitária"
   ]
  },
  {
   "cell_type": "markdown",
   "metadata": {},
   "source": [
    "##### $\\min C = 30x_1 + 35x_2 + 105x_3$ \n",
    "\n",
    "#####   s.a.: $x_3 \\geq 30$ \n",
    "#####         $3000x_1 + 3500x_2 + 5400x_3 \\geq 2100000$ \n",
    "#####         $12x_1 + 18x_2 + 22x_3 \\leq 10000$ \n",
    "#####         $x_1, x_2 \\geq 0$ "
   ]
  },
  {
   "cell_type": "code",
   "execution_count": 3,
   "metadata": {},
   "outputs": [
    {
     "data": {
      "text/plain": [
       "min_custo_ajuda:\n",
       "MINIMIZE\n",
       "30*x1 + 35*x2 + 105*x3 + 0\n",
       "SUBJECT TO\n",
       "Min_Kits_Premium: x3 >= 30\n",
       "\n",
       "Min_Ajuda_Habitantes: 3000 x1 + 3500 x2 + 5400 x3 >= 2100000\n",
       "\n",
       "Max_Peso_Transporte: 12 x1 + 18 x2 + 22 x3 <= 10000\n",
       "\n",
       "VARIABLES\n",
       "0 <= x1 Integer\n",
       "0 <= x2 Integer\n",
       "0 <= x3 Integer"
      ]
     },
     "execution_count": 3,
     "metadata": {},
     "output_type": "execute_result"
    }
   ],
   "source": [
    "# Criar o modelo\n",
    "model = LpProblem(name=\"min_custo_ajuda\", sense=LpMinimize)\n",
    "#\n",
    "# Inicializar as variáveis de decisão\n",
    "x = {i: LpVariable(name=f\"x{i}\", lowBound=0, cat='Integer') for i in range(1, 4)}\n",
    "#\n",
    "# Adicionar as restrições\n",
    "model += (x[3] >= 30, \"Min_Kits_Premium\")\n",
    "model += (3000 * x[1] + 3500 * x[2] + 5400 * x[3] >= 2100000, \"Min_Ajuda_Habitantes\")\n",
    "model += (12 * x[1] + 18 * x[2] + 22 * x[3] <= 10000, \"Max_Peso_Transporte\")\n",
    "#\n",
    "# Adicionar a função objetivo\n",
    "obj_func = 30 * x[1] + 35 * x[2] + 105 * x[3]\n",
    "model += obj_func\n",
    "# \n",
    "# Formulação (visualização do modelo matemático de forma a conferir os dados)\n",
    "model"
   ]
  },
  {
   "cell_type": "code",
   "execution_count": 4,
   "metadata": {},
   "outputs": [
    {
     "name": "stdout",
     "output_type": "stream",
     "text": [
      "objective: 22530.0\n",
      "x1: 646.0\n",
      "x2: 0.0\n",
      "x3: 30.0\n",
      "Min_Kits_Premium: 0.0\n",
      "Min_Ajuda_Habitantes: 0.0\n",
      "Max_Peso_Transporte: -1588.0\n"
     ]
    }
   ],
   "source": [
    "status = model.solve() \n",
    "\n",
    "# Valor óptimo de problema\n",
    "model.objective.value()\n",
    "print(f\"objective: {model.objective.value()}\")\n",
    "#\n",
    "# Solução óptima\n",
    "# Valores óptimos das variáveis de decisão\n",
    "#\n",
    "for var in x.values():\n",
    "    print(f\"{var.name}: {var.value()}\")\n",
    "#\n",
    "# Valores das variáveis de desvio\n",
    "#\n",
    "for name, constraint in model.constraints.items():\n",
    "    print (f\"{name}: {constraint.value()}\") "
   ]
  },
  {
   "cell_type": "markdown",
   "metadata": {},
   "source": [
    "### (ii) Maximização do total de kits enviados"
   ]
  },
  {
   "cell_type": "markdown",
   "metadata": {},
   "source": [
    "##### $\\max K = x_1 + x_2 + x_3$\n",
    "\n",
    "#####   s.a.: $x_3 \\geq 30$ \n",
    "#####         $3000x_1 + 3500x_2 + 5400x_3 \\geq 2100000$ \n",
    "#####         $12x_1 + 18x_2 + 22x_3 \\leq 10000$ \n",
    "#####         $x_1, x_2 \\geq 0$ "
   ]
  },
  {
   "cell_type": "code",
   "execution_count": 5,
   "metadata": {},
   "outputs": [
    {
     "data": {
      "text/plain": [
       "max_kits:\n",
       "MAXIMIZE\n",
       "1*x1 + 1*x2 + 1*x3 + 0\n",
       "SUBJECT TO\n",
       "Min_Kits_Premium: x3 >= 30\n",
       "\n",
       "Min_Ajuda_Habitantes: 3000 x1 + 3500 x2 + 5400 x3 >= 2100000\n",
       "\n",
       "Max_Peso_Transporte: 12 x1 + 18 x2 + 22 x3 <= 10000\n",
       "\n",
       "VARIABLES\n",
       "0 <= x1 Integer\n",
       "0 <= x2 Integer\n",
       "0 <= x3 Integer"
      ]
     },
     "execution_count": 5,
     "metadata": {},
     "output_type": "execute_result"
    }
   ],
   "source": [
    "# Criar o modelo\n",
    "model = LpProblem(name=\"max_kits\", sense=LpMaximize)\n",
    "#\n",
    "# Inicializar as variáveis de decisão\n",
    "x = {i: LpVariable(name=f\"x{i}\", lowBound=0, cat='Integer') for i in range(1, 4)}\n",
    "#\n",
    "# Adicionar as restrições\n",
    "model += (x[3] >= 30, \"Min_Kits_Premium\")\n",
    "model += (3000 * x[1] + 3500 * x[2] + 5400 * x[3] >= 2100000, \"Min_Ajuda_Habitantes\")\n",
    "model += (12 * x[1] + 18 * x[2] + 22 * x[3] <= 10000, \"Max_Peso_Transporte\")\n",
    "#\n",
    "# Adicionar a função objetivo\n",
    "obj_func = x[1] + x[2] + x[3]\n",
    "model += obj_func\n",
    "# \n",
    "# Formulação (visualização do modelo matemático de forma a conferir os dados)\n",
    "model"
   ]
  },
  {
   "cell_type": "code",
   "execution_count": 6,
   "metadata": {},
   "outputs": [
    {
     "name": "stdout",
     "output_type": "stream",
     "text": [
      "objective: 808.0\n",
      "x1: 778.0\n",
      "x2: 0.0\n",
      "x3: 30.0\n",
      "Min_Kits_Premium: 0.0\n",
      "Min_Ajuda_Habitantes: 396000.0\n",
      "Max_Peso_Transporte: -4.0\n"
     ]
    }
   ],
   "source": [
    "status = model.solve() \n",
    "\n",
    "# Valor óptimo de problema\n",
    "model.objective.value()\n",
    "print(f\"objective: {model.objective.value()}\")\n",
    "#\n",
    "# Solução óptima\n",
    "# Valores óptimos das variáveis de decisão\n",
    "#\n",
    "for var in x.values():\n",
    "    print(f\"{var.name}: {var.value()}\")\n",
    "#\n",
    "# Valores das variáveis de desvio\n",
    "#\n",
    "for name, constraint in model.constraints.items():\n",
    "    print (f\"{name}: {constraint.value()}\") "
   ]
  },
  {
   "cell_type": "markdown",
   "metadata": {},
   "source": [
    "## d) Admitindo que a organização atribui igual importância aos objetivos, determine uma solução de envio de kits que garanta: ▪ um custo de envio de aproximadamente 22.5 milhões de euros; e ▪ o envio de aproximadamente 80800 kits."
   ]
  },
  {
   "cell_type": "markdown",
   "metadata": {},
   "source": [
    "### Abordagem não preemptiva\n",
    "#### Minimização da Soma dos Desvios Percentuais Ponderados\n",
    "#### Formulação em PL por metas\n",
    "\n",
    "##### $\\min Z = \\frac{P_1^{-} * d_1^{-} + P_1^{+} * d_1^{+}}{22500} + \\frac{P_2^{-} * d_2^{-} + P_2^{+} * d_2^{+}}{808}$\n",
    "\n",
    "#####   s.a.: $x_3 \\geq 30$ \n",
    "#####         $3000x_1 + 3500x_2 + 5400x_3 \\geq 2100000$ \n",
    "#####         $12x_1 + 18x_2 + 22x_3 \\leq 10000$ \n",
    "#####         $30x_1 + 35x_2 + 105x_3 + d_1^{-} - d_1^{+} = 22500 $ \n",
    "#####         $x_1 + x_2 + x_3 + d_2^{-} - d_2^{+} = 808 $ \n",
    "#####         $x_1, x_2 \\geq 0$ \n",
    "#####         $d_1^{-}, d_1^{+}, d_2^{-}, d_2^{+} \\geq 0$"
   ]
  },
  {
   "cell_type": "code",
   "execution_count": 7,
   "metadata": {},
   "outputs": [
    {
     "data": {
      "text/plain": [
       "ajuda_pesos_iguais:\n",
       "MINIMIZE\n",
       "4.4444444444444447e-05*dM_cost + 0.0012376237623762376*dM_kits + 4.4444444444444447e-05*dm_cost + 0.0012376237623762376*dm_kits + 0.0\n",
       "SUBJECT TO\n",
       "Min_Kits_Premium: x3 >= 30\n",
       "\n",
       "Min_Ajuda_Habitantes: 3000 x1 + 3500 x2 + 5400 x3 >= 2100000\n",
       "\n",
       "Max_Peso_Transporte: 12 x1 + 18 x2 + 22 x3 <= 10000\n",
       "\n",
       "Meta_Custo: - dM_cost + dm_cost + 30 x1 + 35 x2 + 105 x3 = 22500\n",
       "\n",
       "Meta_Kits: - dM_kits + dm_kits + x1 + x2 + x3 = 808\n",
       "\n",
       "VARIABLES\n",
       "dM_cost Continuous\n",
       "dM_kits Continuous\n",
       "dm_cost Continuous\n",
       "dm_kits Continuous\n",
       "x1 Continuous\n",
       "x2 Continuous\n",
       "x3 Continuous"
      ]
     },
     "execution_count": 7,
     "metadata": {},
     "output_type": "execute_result"
    }
   ],
   "source": [
    "# Criar o modelo\n",
    "model = LpProblem(name=\"ajuda_pesos_iguais\", sense=LpMinimize)\n",
    "#\n",
    "# Inicializar as variáveis de decisão\n",
    "x = {i: LpVariable(name=f\"x{i}\", lowBound=0) for i in range(1, 4)}\n",
    "dm_cost = LpVariable('dm_cost', lowBound=0)\n",
    "dM_cost = LpVariable('dM_cost', lowBound=0)\n",
    "dm_kits = LpVariable('dm_kits', lowBound=0)\n",
    "dM_kits = LpVariable('dM_kits', lowBound=0)\n",
    "#\n",
    "# Adicionar as restrições\n",
    "model += (x[3] >= 30, \"Min_Kits_Premium\")\n",
    "model += (3000 * x[1] + 3500 * x[2] + 5400 * x[3] >= 2100000, \"Min_Ajuda_Habitantes\")\n",
    "model += (12 * x[1] + 18 * x[2] + 22 * x[3] <= 10000, \"Max_Peso_Transporte\")\n",
    "model += (30 * x[1] + 35 * x[2] + 105 * x[3] + dm_cost - dM_cost == 22500, \"Meta_Custo\")\n",
    "model += (x[1] + x[2] + x[3] + dm_kits - dM_kits == 808, \"Meta_Kits\")\n",
    "#\n",
    "# Adicionar a função objetivo\n",
    "meta = np.array([22500, 808])\n",
    "peso = np.array([1,1])\n",
    "obj_func = (peso[0]/meta[0]) * (dm_cost + dM_cost) + (peso[1]/meta[1])* (dm_kits + dM_kits)\n",
    "model += obj_func\n",
    "# \n",
    "# Formulação (visualização do modelo matemático de forma a conferir os dados)\n",
    "model"
   ]
  },
  {
   "cell_type": "code",
   "execution_count": 8,
   "metadata": {},
   "outputs": [
    {
     "name": "stdout",
     "output_type": "stream",
     "text": [
      "objective: 0.1646996699669967\n",
      "x1: 646.0\n",
      "x2: 0.0\n",
      "x3: 30.0\n",
      "dm_cost: 0.0\n",
      "dM_cost: 30.0\n",
      "dm_kits: 132.0\n",
      "dM_kits: 0.0\n",
      "Min_Kits_Premium: 0.0\n",
      "Min_Ajuda_Habitantes: 0.0\n",
      "Max_Peso_Transporte: -1588.0\n",
      "Meta_Custo: 0.0\n",
      "Meta_Kits: 0.0\n"
     ]
    }
   ],
   "source": [
    "status = model.solve() \n",
    "\n",
    "# Valor óptimo de problema\n",
    "model.objective.value()\n",
    "print(f\"objective: {model.objective.value()}\")\n",
    "#\n",
    "# Solução óptima\n",
    "# Valores óptimos das variáveis de decisão\n",
    "#\n",
    "for var in x.values():\n",
    "    print(f\"{var.name}: {var.value()}\")\n",
    "print(f\"{dm_cost}: {dm_cost.value()}\")\n",
    "print(f\"{dM_cost}: {dM_cost.value()}\")\n",
    "print(f\"{dm_kits}: {dm_kits.value()}\")\n",
    "print(f\"{dM_kits}: {dM_kits.value()}\")\n",
    "#\n",
    "# Valores das variáveis de desvio\n",
    "#\n",
    "for name, constraint in model.constraints.items():\n",
    "    print (f\"{name}: {constraint.value()}\") "
   ]
  },
  {
   "cell_type": "markdown",
   "metadata": {},
   "source": [
    "## e) Suponha que a organização decidiu dar mais importância ao cumprimento do nível de aspiração do total de kits enviado. Deste modo, atribuiu uma penalização de 8 pontos por cada 10 kits abaixo do nível de aspiração (80800 kits) e uma penalização de 1 ponto por cada milhão de euros acima do nível de aspiração (22.5 milhões de euros)"
   ]
  },
  {
   "cell_type": "markdown",
   "metadata": {},
   "source": [
    "Deve considerar-se uma abordagem preemptiva já que são dados diferentes níveis de prioridade aos objetivos.\n",
    "Para calcular os pesos: \n",
    "- peso dos kits: 8*100/10\n",
    "- peso do custo: 1/(1000000 * 1000)"
   ]
  },
  {
   "cell_type": "markdown",
   "metadata": {},
   "source": [
    "#### Formulação do problema: \n",
    "##### $Lex \\min Z = \\left\\{P_2^{-}d_2^{-} + P_2^{+}d_2^{+}, P_1^{-}d_1^{-} + P_1^{+}d_1^{+} \\right\\}$\n",
    "\n",
    "##### **Primeiro nível**\n",
    "#####   $ \\min Z = P_2^{-}d_2^{-} + P_2^{+}d_2^{+}$\n",
    "#####   s.a.: $x_3 \\geq 30$ \n",
    "#####         $3000x_1 + 3500x_2 + 5400x_3 \\geq 2100000$ \n",
    "#####         $12x_1 + 18x_2 + 22x_3 \\leq 10000$ \n",
    "#####         $x_1 + x_2 + x_3 + d_2^{-} - d_2^{+} = 808 $ \n",
    "#####         $x_1, x_2 \\geq 0$ \n",
    "#####         $d_2^{-}, d_2^{+} \\geq 0$"
   ]
  },
  {
   "cell_type": "code",
   "execution_count": 9,
   "metadata": {},
   "outputs": [
    {
     "data": {
      "text/plain": [
       "preemptiva_e1:\n",
       "MINIMIZE\n",
       "0.0012376237623762376*dM_kits + 0.09900990099009901*dm_kits + 0.0\n",
       "SUBJECT TO\n",
       "Min_Kits_Premium: x3 >= 30\n",
       "\n",
       "Min_Ajuda_Habitantes: 3000 x1 + 3500 x2 + 5400 x3 >= 2100000\n",
       "\n",
       "Max_Peso_Transporte: 12 x1 + 18 x2 + 22 x3 <= 10000\n",
       "\n",
       "Meta_Kits: - dM_kits + dm_kits + x1 + x2 + x3 = 808\n",
       "\n",
       "VARIABLES\n",
       "dM_kits Continuous\n",
       "dm_kits Continuous\n",
       "0 <= x1 Integer\n",
       "0 <= x2 Integer\n",
       "0 <= x3 Integer"
      ]
     },
     "execution_count": 9,
     "metadata": {},
     "output_type": "execute_result"
    }
   ],
   "source": [
    "# Para o primeiro nível:\n",
    "# Criar o modelo\n",
    "model1 = LpProblem(name=\"preemptiva_e1\", sense=LpMinimize)\n",
    "#\n",
    "# Inicializar as variáveis de decisão\n",
    "x = {i: LpVariable(name=f\"x{i}\", lowBound=0, cat='Integer') for i in range(1, 4)}\n",
    "dm_kits = LpVariable('dm_kits', lowBound=0)\n",
    "dM_kits = LpVariable('dM_kits', lowBound=0)\n",
    "#\n",
    "# Adicionar as restrições\n",
    "model1 += (x[3] >= 30, \"Min_Kits_Premium\")\n",
    "model1 += (3000 * x[1] + 3500 * x[2] + 5400 * x[3] >= 2100000, \"Min_Ajuda_Habitantes\")\n",
    "model1 += (12 * x[1] + 18 * x[2] + 22 * x[3] <= 10000, \"Max_Peso_Transporte\")\n",
    "model1 += (x[1] + x[2] + x[3] + dm_kits - dM_kits == 808, \"Meta_Kits\")\n",
    "#\n",
    "# Adicionar a função objetivo\n",
    "meta = np.array([808,22500])\n",
    "peso = np.array([(8*100/10),1,1,(1/(1000000 * 1000))])\n",
    "obj_func =  (peso[0]*dm_kits)/meta[0] + (peso[1]*dM_kits)/meta[0]\n",
    "model1 += obj_func\n",
    "# \n",
    "# Formulação (visualização do modelo matemático de forma a conferir os dados)\n",
    "model1"
   ]
  },
  {
   "cell_type": "code",
   "execution_count": 10,
   "metadata": {},
   "outputs": [
    {
     "name": "stdout",
     "output_type": "stream",
     "text": [
      "objective: 0.0\n",
      "x1: 778.0\n",
      "x2: 0.0\n",
      "x3: 30.0\n",
      "dm_kits: 0.0\n",
      "dM_kits: 0.0\n",
      "Min_Kits_Premium: 0.0\n",
      "Min_Ajuda_Habitantes: 396000.0\n",
      "Max_Peso_Transporte: -4.0\n",
      "Meta_Kits: 0.0\n"
     ]
    }
   ],
   "source": [
    "status = model1.solve() \n",
    "\n",
    "# Valor óptimo de problema\n",
    "model1.objective.value()\n",
    "print(f\"objective: {model1.objective.value()}\")\n",
    "#\n",
    "# Solução óptima\n",
    "# Valores óptimos das variáveis de decisão\n",
    "#\n",
    "for var in x.values():\n",
    "    print(f\"{var.name}: {var.value()}\")\n",
    "print(f\"{dm_kits}: {dm_kits.value()}\")\n",
    "print(f\"{dM_kits}: {dM_kits.value()}\")\n",
    "#\n",
    "# Valores das variáveis de desvio\n",
    "#\n",
    "for name, constraint in model1.constraints.items():\n",
    "    print (f\"{name}: {constraint.value()}\") "
   ]
  },
  {
   "cell_type": "markdown",
   "metadata": {},
   "source": [
    "##### **Segundo nível**\n",
    "#####   $ \\min Z = P_1^{-}d_1^{-} + P_1^{+}d_1^{+}$\n",
    "#####   s.a.: $x_3 \\geq 30$ \n",
    "#####         $3000x_1 + 3500x_2 + 5400x_3 \\geq 2100000$ \n",
    "#####         $12x_1 + 18x_2 + 22x_3 \\leq 10000$ \n",
    "#####         $x_1 + x_2 + x_3 + d_2^{-} - d_2^{+} = 808 $ \n",
    "#####         $30x_1 + 35x_2 + 105x_3 + d_1^{-} - d_1^{+} = 22500 $ \n",
    "#####         $x_1, x_2 \\geq 0$ \n",
    "#####         $d_1^{-}, d_1^{+}, d_2^{-}, d_2^{+} \\geq 0$"
   ]
  },
  {
   "cell_type": "code",
   "execution_count": 11,
   "metadata": {},
   "outputs": [
    {
     "data": {
      "text/plain": [
       "preemptiva_e2:\n",
       "MINIMIZE\n",
       "4.444444444444445e-14*dM_cost + 0.0012376237623762376*dM_kits + 4.4444444444444447e-05*dm_cost + 0.09900990099009901*dm_kits + 0.0\n",
       "SUBJECT TO\n",
       "Min_Kits_Premium: x3 >= 30\n",
       "\n",
       "Min_Ajuda_Habitantes: 3000 x1 + 3500 x2 + 5400 x3 >= 2100000\n",
       "\n",
       "Max_Peso_Transporte: 12 x1 + 18 x2 + 22 x3 <= 10000\n",
       "\n",
       "Meta_Custo: - dM_cost + dm_cost + 30 x1 + 35 x2 + 105 x3 = 22500\n",
       "\n",
       "Meta_Kits: - dM_kits + dm_kits + x1 + x2 + x3 = 808\n",
       "\n",
       "VARIABLES\n",
       "dM_cost Continuous\n",
       "dM_kits Continuous\n",
       "dm_cost Continuous\n",
       "dm_kits Continuous\n",
       "0 <= x1 Integer\n",
       "0 <= x2 Integer\n",
       "0 <= x3 Integer"
      ]
     },
     "execution_count": 11,
     "metadata": {},
     "output_type": "execute_result"
    }
   ],
   "source": [
    "# Para o segundo nível:\n",
    "# Criar o modelo\n",
    "model2 = LpProblem(name=\"preemptiva_e2\", sense=LpMinimize)\n",
    "#\n",
    "# Inicializar as variáveis de decisão\n",
    "x = {i: LpVariable(name=f\"x{i}\", lowBound=0, cat='Integer') for i in range(1, 4)}\n",
    "dm_cost = LpVariable('dm_cost', lowBound=0)\n",
    "dM_cost = LpVariable('dM_cost', lowBound=0)\n",
    "dm_kits = LpVariable('dm_kits', lowBound=0)\n",
    "dM_kits = LpVariable('dM_kits', lowBound=0)\n",
    "#\n",
    "# Adicionar as restrições\n",
    "model2 += (x[3] >= 30, \"Min_Kits_Premium\")\n",
    "model2 += (3000 * x[1] + 3500 * x[2] + 5400 * x[3] >= 2100000, \"Min_Ajuda_Habitantes\")\n",
    "model2 += (12 * x[1] + 18 * x[2] + 22 * x[3] <= 10000, \"Max_Peso_Transporte\")\n",
    "model2 += (30 * x[1] + 35 * x[2] + 105 * x[3] + dm_cost - dM_cost == 22500, \"Meta_Custo\")\n",
    "model2 += (x[1] + x[2] + x[3] + dm_kits - dM_kits == 808, \"Meta_Kits\")\n",
    "#\n",
    "# Adicionar a função objetivo\n",
    "meta = np.array([808, 22500])\n",
    "peso = np.array([(8*100/10),1,1,(1/(1000000 * 1000))])\n",
    "obj_func = (peso[0]*dm_kits)/meta[0] + (peso[1]*dM_kits)/meta[0] + (peso[2]*dm_cost)/meta[1] + (peso[3]*dM_cost)/meta[1]\n",
    "model2 += obj_func\n",
    "# \n",
    "# Formulação (visualização do modelo matemático de forma a conferir os dados)\n",
    "model2"
   ]
  },
  {
   "cell_type": "code",
   "execution_count": 12,
   "metadata": {},
   "outputs": [
    {
     "name": "stdout",
     "output_type": "stream",
     "text": [
      "objective: 1.7733333333333334e-10\n",
      "x1: 778.0\n",
      "x2: 0.0\n",
      "x3: 30.0\n",
      "dm_cost: 0.0\n",
      "dM_cost: 3990.0\n",
      "dm_kits: 0.0\n",
      "dM_kits: 0.0\n",
      "Min_Kits_Premium: 0.0\n",
      "Min_Ajuda_Habitantes: 396000.0\n",
      "Max_Peso_Transporte: -4.0\n",
      "Meta_Custo: 0.0\n",
      "Meta_Kits: 0.0\n"
     ]
    }
   ],
   "source": [
    "status = model2.solve() \n",
    "\n",
    "# Valor óptimo de problema\n",
    "model2.objective.value()\n",
    "print(f\"objective: {model2.objective.value()}\")\n",
    "#\n",
    "# Solução óptima\n",
    "# Valores óptimos das variáveis de decisão\n",
    "#\n",
    "for var in x.values():\n",
    "    print(f\"{var.name}: {var.value()}\")\n",
    "print(f\"{dm_cost}: {dm_cost.value()}\")\n",
    "print(f\"{dM_cost}: {dM_cost.value()}\")\n",
    "print(f\"{dm_kits}: {dm_kits.value()}\")\n",
    "print(f\"{dM_kits}: {dM_kits.value()}\")\n",
    "#\n",
    "# Valores das variáveis de desvio\n",
    "#\n",
    "for name, constraint in model2.constraints.items():\n",
    "    print (f\"{name}: {constraint.value()}\") "
   ]
  },
  {
   "cell_type": "code",
   "execution_count": null,
   "metadata": {},
   "outputs": [],
   "source": []
  }
 ],
 "metadata": {
  "kernelspec": {
   "display_name": "base",
   "language": "python",
   "name": "python3"
  },
  "language_info": {
   "codemirror_mode": {
    "name": "ipython",
    "version": 3
   },
   "file_extension": ".py",
   "mimetype": "text/x-python",
   "name": "python",
   "nbconvert_exporter": "python",
   "pygments_lexer": "ipython3",
   "version": "3.9.12"
  }
 },
 "nbformat": 4,
 "nbformat_minor": 2
}
