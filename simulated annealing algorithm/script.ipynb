{
 "cells": [
  {
   "cell_type": "markdown",
   "metadata": {},
   "source": [
    "### Setup inicial"
   ]
  },
  {
   "cell_type": "code",
   "execution_count": 1,
   "metadata": {},
   "outputs": [],
   "source": [
    "# setup de bibliotecas utilizadas\n",
    "import random\n",
    "import math\n",
    "import json\n",
    "import pandas as pd\n",
    "random.seed(123)"
   ]
  },
  {
   "cell_type": "markdown",
   "metadata": {},
   "source": [
    "### Lista de dicionários com os dados do enunciado"
   ]
  },
  {
   "cell_type": "code",
   "execution_count": 2,
   "metadata": {},
   "outputs": [],
   "source": [
    "# definição das zonas com rentabilidade esperada e impacto ambiental conforme apresentado no enunciado\n",
    "zonas = [\n",
    "    {\"zona\": \"A1\", \"rentabilidade\": 2600, \"impacto\": 2},\n",
    "    {\"zona\": \"A2\", \"rentabilidade\": 3400, \"impacto\": 4},\n",
    "    {\"zona\": \"A3\", \"rentabilidade\": 1900, \"impacto\": 3},\n",
    "    {\"zona\": \"A4\", \"rentabilidade\": 2100, \"impacto\": 4},\n",
    "    {\"zona\": \"A5\", \"rentabilidade\": 3000, \"impacto\": 2},\n",
    "    {\"zona\": \"A6\", \"rentabilidade\": 3200, \"impacto\": 2},\n",
    "    {\"zona\": \"A7\", \"rentabilidade\": 3400, \"impacto\": 1},\n",
    "    {\"zona\": \"A8\", \"rentabilidade\": 4300, \"impacto\": 2},\n",
    "    {\"zona\": \"A9\", \"rentabilidade\": 4700, \"impacto\": 4},\n",
    "    {\"zona\": \"A10\", \"rentabilidade\": 1100, \"impacto\": 3},\n",
    "    {\"zona\": \"A11\", \"rentabilidade\": 4600, \"impacto\": 4},\n",
    "    {\"zona\": \"A12\", \"rentabilidade\": 4700, \"impacto\": 4},\n",
    "    {\"zona\": \"A13\", \"rentabilidade\": 1700, \"impacto\": 1},\n",
    "    {\"zona\": \"A14\", \"rentabilidade\": 5000, \"impacto\": 4},\n",
    "    {\"zona\": \"A15\", \"rentabilidade\": 1900, \"impacto\": 1},\n",
    "    {\"zona\": \"A16\", \"rentabilidade\": 2900, \"impacto\": 1},\n",
    "    {\"zona\": \"A17\", \"rentabilidade\": 1300, \"impacto\": 4},\n",
    "    {\"zona\": \"A18\", \"rentabilidade\": 3300, \"impacto\": 1},\n",
    "    {\"zona\": \"A19\", \"rentabilidade\": 3000, \"impacto\": 1},\n",
    "    {\"zona\": \"A20\", \"rentabilidade\": 4200, \"impacto\": 1},\n",
    "    {\"zona\": \"A21\", \"rentabilidade\": 4200, \"impacto\": 4},\n",
    "    {\"zona\": \"A22\", \"rentabilidade\": 2400, \"impacto\": 1},\n",
    "    {\"zona\": \"A23\", \"rentabilidade\": 4600, \"impacto\": 3},\n",
    "    {\"zona\": \"A24\", \"rentabilidade\": 1800, \"impacto\": 1},\n",
    "    {\"zona\": \"A25\", \"rentabilidade\": 4500, \"impacto\": 4},\n",
    "    {\"zona\": \"A26\", \"rentabilidade\": 2000, \"impacto\": 2},\n",
    "    {\"zona\": \"A27\", \"rentabilidade\": 1700, \"impacto\": 1},\n",
    "    {\"zona\": \"A28\", \"rentabilidade\": 1700, \"impacto\": 3},\n",
    "    {\"zona\": \"A29\", \"rentabilidade\": 1500, \"impacto\": 2},\n",
    "    {\"zona\": \"A30\", \"rentabilidade\": 1700, \"impacto\": 3}\n",
    "]"
   ]
  },
  {
   "cell_type": "markdown",
   "metadata": {},
   "source": [
    "### Funções"
   ]
  },
  {
   "cell_type": "code",
   "execution_count": 3,
   "metadata": {},
   "outputs": [],
   "source": [
    "# função de avaliação da solução\n",
    "def f(solucao):\n",
    "    return sum(zona[\"rentabilidade\"] for zona in solucao)\n",
    "\n",
    "\n",
    "# função para obter as zonas adjacentes\n",
    "def zonas_adjacentes(zona):\n",
    "    adj = {\n",
    "        \"A1\": [\"A2\", \"A7\"], \n",
    "        \"A2\": [\"A1\", \"A8\", \"A3\", \"A4\"], \n",
    "        \"A3\": [\"A2\", \"A4\", \"A5\"],\n",
    "        \"A4\": [\"A2\", \"A3\", \"A5\", \"A9\", \"A10\"], \n",
    "        \"A5\": [\"A3\", \"A4\", \"A11\", \"A6\"],\n",
    "        \"A6\": [\"A5\", \"A12\"],\n",
    "        \"A7\": [\"A1\", \"A8\", \"A13\"],\n",
    "        \"A8\": [\"A7\", \"A2\", \"A9\", \"A13\", \"A14\"],\n",
    "        \"A9\": [\"A8\", \"A4\", \"A10\", \"A14\", \"A15\"],\n",
    "        \"A10\": [\"A9\", \"A4\", \"A11\", \"A15\"],\n",
    "        \"A11\": [\"A10\", \"A5\", \"A12\", \"A16\"],\n",
    "        \"A12\": [\"A17\", \"A11\", \"A6\"],\n",
    "        \"A13\": [\"A18\", \"A14\", \"A8\", \"A7\"],\n",
    "        \"A14\": [\"A13\", \"A19\", \"A15\", \"A8\", \"A9\"],\n",
    "        \"A15\": [\"A14\", \"A21\", \"A16\", \"A9\", \"A10\"],\n",
    "        \"A16\": [\"A15\", \"A17\", \"A11\", \"A23\"], \n",
    "        \"A17\": [\"A16\", \"A12\", \"A25\"], \n",
    "        \"A18\": [\"A13\", \"A19\", \"A20\", \"A26\"],\n",
    "        \"A19\": [\"A14\", \"A18\", \"A20\", \"A21\"], \n",
    "        \"A20\": [\"A18\", \"A19\", \"A22\", \"A27\"],\n",
    "        \"A21\": [\"A19\", \"A15\", \"A23\", \"A22\"],\n",
    "        \"A22\": [\"A20\", \"A21\", \"A24\", \"A28\"],\n",
    "        \"A23\": [\"A21\", \"A16\", \"A25\", \"A24\"],\n",
    "        \"A24\": [\"A22\", \"A23\", \"A25\", \"A29\"],\n",
    "        \"A25\": [\"A17\", \"A23\", \"A24\", \"A30\"],\n",
    "        \"A26\": [\"A18\", \"A27\"],\n",
    "        \"A27\": [\"A26\", \"A20\", \"A28\"],\n",
    "        \"A28\": [\"A27\", \"A22\", \"A29\"],\n",
    "        \"A29\": [\"A28\", \"A24\", \"A30\"],\n",
    "        \"A30\": [\"A29\", \"A25\"]\n",
    "    }\n",
    "    return adj.get(zona[\"zona\"], [])\n",
    "\n",
    "\n",
    "# função para gerar um vizinho\n",
    "def gerar_vizinho(solucao):\n",
    "    while True:\n",
    "        zona_a_substituir = random.choice(solucao)\n",
    "        solucao_resto = [zona for zona in solucao if zona != zona_a_substituir]\n",
    "        zonas_disponiveis = [\n",
    "            zona for zona in zonas \n",
    "            if zona not in solucao_resto and\n",
    "               all(zona[\"zona\"] not in zonas_adjacentes(z) for z in solucao_resto)\n",
    "        ]\n",
    "        if not zonas_disponiveis:\n",
    "            continue\n",
    "        nova_zona = random.choice(zonas_disponiveis)\n",
    "        nova_solucao = solucao_resto + [nova_zona]\n",
    "        \n",
    "        impacto_total = sum(zona[\"impacto\"] for zona in nova_solucao)\n",
    "\n",
    "        check_areas1 = sorted([zona[\"zona\"] for zona in solucao]) \n",
    "        check_areas2 = sorted([zona[\"zona\"] for zona in nova_solucao])\n",
    "\n",
    "        if (impacto_total <= 8) and (check_areas1 != check_areas2): # 2ª condição serve para garantir que a nova solução é diferente da que foi passada como parâmetro\n",
    "            return nova_solucao\n",
    "\n",
    "\n",
    "# função do simulated annealing\n",
    "def simulated_annealing(solucao_inicial):\n",
    "    t0 = 0.2 * f(solucao_inicial)\n",
    "    T = [t0 * (0.5 ** k) for k in range(5)]\n",
    "    mk = 5\n",
    "\n",
    "    solucao_atual = solucao_inicial\n",
    "    melhor_solucao = solucao_inicial\n",
    "    melhor_rentabilidade = f(solucao_inicial)\n",
    "\n",
    "    all_sols = pd.DataFrame(columns=['iteracao', 'temperatura', 'localizacao', 'rentabilidade', \n",
    "                                     'impacto ambiental'])\n",
    "\n",
    "    for k in range(5):\n",
    "        for i in range(mk):\n",
    "            solucao_vizinha = gerar_vizinho(solucao_atual)\n",
    "            rentabilidade_vizinho = f(solucao_vizinha)\n",
    "            delta = f(solucao_atual) - rentabilidade_vizinho # por querermos maximizar a rentabilidade esperada\n",
    "\n",
    "            probabilidade_aceitacao = math.exp(-delta / T[k]) if delta > 0 else 1\n",
    "            aceitar = delta < 0 or probabilidade_aceitacao > random.random()\n",
    "\n",
    "            if aceitar:\n",
    "                solucao_atual = solucao_vizinha\n",
    "                if rentabilidade_vizinho > melhor_rentabilidade:\n",
    "                    melhor_solucao = solucao_vizinha\n",
    "                    melhor_rentabilidade = rentabilidade_vizinho\n",
    "\n",
    "            # guardar as iterações do algoritmo \n",
    "            new_row = pd.DataFrame([{\n",
    "                'iteracao': k * mk + i,\n",
    "                'temperatura': T[k],\n",
    "                'localizacao': [zona[\"zona\"] for zona in solucao_vizinha],\n",
    "                'rentabilidade': f(solucao_vizinha),\n",
    "                'impacto ambiental': sum(zona[\"impacto\"] for zona in solucao_vizinha)\n",
    "            }])\n",
    "            all_sols = pd.concat([all_sols, new_row], ignore_index=True)\n",
    "\n",
    "    return melhor_solucao, melhor_rentabilidade, all_sols"
   ]
  },
  {
   "cell_type": "markdown",
   "metadata": {},
   "source": [
    "### Execução"
   ]
  },
  {
   "cell_type": "code",
   "execution_count": 4,
   "metadata": {},
   "outputs": [
    {
     "name": "stdout",
     "output_type": "stream",
     "text": [
      "O valor da solução é 12800 €\n",
      "\n",
      "Solução vizinha admissível à apresentada é:\n",
      "{\n",
      "    \"zona\": \"A30\",\n",
      "    \"rentabilidade\": 1700,\n",
      "    \"impacto\": 3\n",
      "}\n",
      "{\n",
      "    \"zona\": \"A8\",\n",
      "    \"rentabilidade\": 4300,\n",
      "    \"impacto\": 2\n",
      "}\n",
      "{\n",
      "    \"zona\": \"A20\",\n",
      "    \"rentabilidade\": 4200,\n",
      "    \"impacto\": 1\n",
      "}\n",
      "{\n",
      "    \"zona\": \"A15\",\n",
      "    \"rentabilidade\": 1900,\n",
      "    \"impacto\": 1\n",
      "}\n",
      "\n",
      "As zonas adjacentes de A3 são ['A2', 'A4', 'A5']\n"
     ]
    }
   ],
   "source": [
    "##### como em python os índices começam a partir de 0, para obter, por exemplo, a zona A1 faz-se zonas[0]; A2 <- zonas[1]; A3 <- zonas[2]; ... ; A30 <- zonas[29] (isto é aplicável a todas as funções desenvolvidas) #####\n",
    "sol_inicial = [zonas[0], zonas[29], zonas[7], zonas[19]] # esta variável pode ser modificada com outra zona qualquer para gerar outros valores no total da rentabilidade esperada e outro vizinho admissível (correr várias x a mesma função com o mesmo input também fará com que se gerem diferentes resultados pela componente de aleatoriedade implementada)\n",
    "\n",
    "# função para calcular o total da rentabilidade esperada \n",
    "print(\"O valor da solução é\", f(sol_inicial), '€\\n')\n",
    "\n",
    "# imprimir uma solução vizinha admissível\n",
    "print('Solução vizinha admissível à apresentada é:')\n",
    "nova_solucao = gerar_vizinho(sol_inicial)\n",
    "for zona in nova_solucao:\n",
    "    print(json.dumps(zona, indent=4))\n",
    "\n",
    "\n",
    "##### zonas adjacentes \n",
    "num_zona = 3 # variável pode ser alterada para ver as zonas adjacentes de outras zonas (neste caso, ao contrario dos exemplos acima 1 corresponde à zona A1; 2 <- A2; 3 <- A3; ... ; 30 <- A30)\n",
    "print(f'\\nAs zonas adjacentes de A{num_zona} são {zonas_adjacentes(zonas[num_zona-1])}')"
   ]
  },
  {
   "cell_type": "code",
   "execution_count": 5,
   "metadata": {},
   "outputs": [
    {
     "name": "stdout",
     "output_type": "stream",
     "text": [
      "A melhor solução admissível obtida ao fim das mk iterações é:\n",
      "{\n",
      "    \"zona\": \"A20\",\n",
      "    \"rentabilidade\": 4200,\n",
      "    \"impacto\": 1\n",
      "}\n",
      "{\n",
      "    \"zona\": \"A24\",\n",
      "    \"rentabilidade\": 1800,\n",
      "    \"impacto\": 1\n",
      "}\n",
      "{\n",
      "    \"zona\": \"A8\",\n",
      "    \"rentabilidade\": 4300,\n",
      "    \"impacto\": 2\n",
      "}\n",
      "{\n",
      "    \"zona\": \"A12\",\n",
      "    \"rentabilidade\": 4700,\n",
      "    \"impacto\": 4\n",
      "}\n",
      "\n",
      "A maior rentabilidade esperada obtida ao fim de mk iterações é 15000 €\n"
     ]
    }
   ],
   "source": [
    "melhor_sol, melhor_val, all_sols = simulated_annealing([zonas[0], zonas[29], zonas[7], zonas[19]])\n",
    "\n",
    "print('A melhor solução admissível obtida ao fim das mk iterações é:')\n",
    "for zona in melhor_sol:\n",
    "    print(json.dumps(zona, indent=4))\n",
    "\n",
    "print(f\"\\nA maior rentabilidade esperada obtida ao fim de mk iterações é {melhor_val} €\")"
   ]
  },
  {
   "cell_type": "code",
   "execution_count": 6,
   "metadata": {},
   "outputs": [],
   "source": [
    "# guardar o ficheiro txt com as iterações do algoritmo\n",
    "all_sols.to_csv('output_sim_annealing.txt', sep='\\t', index=False)"
   ]
  },
  {
   "cell_type": "code",
   "execution_count": null,
   "metadata": {},
   "outputs": [],
   "source": []
  }
 ],
 "metadata": {
  "kernelspec": {
   "display_name": "base",
   "language": "python",
   "name": "python3"
  },
  "language_info": {
   "codemirror_mode": {
    "name": "ipython",
    "version": 3
   },
   "file_extension": ".py",
   "mimetype": "text/x-python",
   "name": "python",
   "nbconvert_exporter": "python",
   "pygments_lexer": "ipython3",
   "version": "3.9.7"
  }
 },
 "nbformat": 4,
 "nbformat_minor": 2
}
