{
 "cells": [
  {
   "cell_type": "markdown",
   "metadata": {},
   "source": [
    "#### *Trabalho de Processamento de Big Data | Licenciatura em Ciência de Dados 2023/24 | CDB1*\n",
    "\n",
    "Docente: João Oliveira<br><br>\n",
    "\n",
    "- David Franco, nº110733\n",
    "\n",
    "- Felipe Pereira, nº110861\n",
    "\n",
    "- João Dias, nº110305\n",
    "\n",
    "- Samuel Ricardo, nº110884<br><br>\n",
    "\n",
    "https://www.kaggle.com/datasets/PROPPG-PPG/hourly-weather-surface-brazil-southeast-region\n",
    "\n",
    "Version 9 (10.11 GB) | Created by John Holz | Data Update 2023/01/30"
   ]
  },
  {
   "cell_type": "markdown",
   "metadata": {},
   "source": [
    "## Análise Exploratória de Dados"
   ]
  },
  {
   "cell_type": "markdown",
   "metadata": {},
   "source": [
    "Esta fase corresponde à segunda fase do trabalho, neste notebook será realizado um conjunto de estatísticas descritivas das variáveis resultantes da fase anterior e que foram importadas através do ficheiro parquet. É importante realçar que, foram feitas apenas as estatísticas das variáveis consideradas mais importantes e que tiveram uma posterior utilização na fase da modelação. "
   ]
  },
  {
   "cell_type": "markdown",
   "metadata": {},
   "source": [
    "### Setup inicial"
   ]
  },
  {
   "cell_type": "code",
   "execution_count": 1,
   "metadata": {},
   "outputs": [],
   "source": [
    "from pyspark.sql import SparkSession\n",
    "from pyspark.sql.types import *\n",
    "import pyspark.sql.functions as F\n",
    "from pyspark.sql.functions import col, count, row_number, date_format, mean, min, max, stddev, year, month, avg, sum\n",
    "\n",
    "from pyspark.sql.window import Window"
   ]
  },
  {
   "cell_type": "code",
   "execution_count": 2,
   "metadata": {},
   "outputs": [],
   "source": [
    "# Some imports \n",
    "\n",
    "import os, sys\n",
    "\n",
    "import numpy as np \n",
    "import pandas as pd  \n",
    "import matplotlib.pyplot as plt\n",
    "import seaborn as sns\n",
    "import warnings\n",
    "warnings.filterwarnings(\"ignore\")"
   ]
  },
  {
   "cell_type": "code",
   "execution_count": 3,
   "metadata": {},
   "outputs": [],
   "source": [
    "# Create the Spark session\n",
    "\n",
    "spark = SparkSession.builder \\\n",
    "    .appName(\"WeatherBrazilEDA\") \\\n",
    "    .config(\"spark.sql.shuffle.partitions\", 512) \\\n",
    "    .config(\"spark.driver.memory\", \"128g\") \\\n",
    "    .config(\"spark.executor.memory\", \"128g\") \\\n",
    "    .getOrCreate()"
   ]
  },
  {
   "cell_type": "code",
   "execution_count": 4,
   "metadata": {},
   "outputs": [
    {
     "data": {
      "text/html": [
       "\n",
       "            <div>\n",
       "                <p><b>SparkSession - in-memory</b></p>\n",
       "                \n",
       "        <div>\n",
       "            <p><b>SparkContext</b></p>\n",
       "\n",
       "            <p><a href=\"http://0cf85ef17487:4040\">Spark UI</a></p>\n",
       "\n",
       "            <dl>\n",
       "              <dt>Version</dt>\n",
       "                <dd><code>v3.5.0</code></dd>\n",
       "              <dt>Master</dt>\n",
       "                <dd><code>local[*]</code></dd>\n",
       "              <dt>AppName</dt>\n",
       "                <dd><code>WeatherBrazilEDA</code></dd>\n",
       "            </dl>\n",
       "        </div>\n",
       "        \n",
       "            </div>\n",
       "        "
      ],
      "text/plain": [
       "<pyspark.sql.session.SparkSession at 0x7f1d7a1528d0>"
      ]
     },
     "execution_count": 4,
     "metadata": {},
     "output_type": "execute_result"
    }
   ],
   "source": [
    "spark"
   ]
  },
  {
   "cell_type": "markdown",
   "metadata": {},
   "source": [
    "### Importação do ficheiro parquet\n"
   ]
  },
  {
   "cell_type": "code",
   "execution_count": 5,
   "metadata": {},
   "outputs": [],
   "source": [
    "df_all_stations = spark.read.parquet(\"./all_stations.parquet\")"
   ]
  },
  {
   "cell_type": "code",
   "execution_count": 6,
   "metadata": {},
   "outputs": [
    {
     "name": "stdout",
     "output_type": "stream",
     "text": [
      "Número de linhas:  49759514\n",
      "Número de colunas:  26\n"
     ]
    }
   ],
   "source": [
    "print(\"Número de linhas: \",df_all_stations.count())\n",
    "print(\"Número de colunas: \", len(df_all_stations.columns))"
   ]
  },
  {
   "cell_type": "code",
   "execution_count": 7,
   "metadata": {},
   "outputs": [
    {
     "name": "stdout",
     "output_type": "stream",
     "text": [
      "root\n",
      " |-- Index: integer (nullable = true)\n",
      " |-- Date: date (nullable = true)\n",
      " |-- Hour: string (nullable = true)\n",
      " |-- TotalHourlyPrecipitationMm: double (nullable = true)\n",
      " |-- HourlyStationLevelAtmosphericPressureMb: double (nullable = true)\n",
      " |-- LastHourMaxAtmosphericPressureMb: double (nullable = true)\n",
      " |-- LastHourMinAtmosphericPressureMb: double (nullable = true)\n",
      " |-- HourlyDryBulbAirTemperatureC: double (nullable = true)\n",
      " |-- DewPointTemperatureC: double (nullable = true)\n",
      " |-- LastHourMaxTemperatureC: double (nullable = true)\n",
      " |-- LastHourMinTemperatureC: double (nullable = true)\n",
      " |-- LastHourMaxDewPointTemperatureC: double (nullable = true)\n",
      " |-- LastHourMinDewPointTemperatureC: double (nullable = true)\n",
      " |-- LastHourMaxRelativeHumidityPercentage: integer (nullable = true)\n",
      " |-- LastHourMinRelativeHumidityPercentage: integer (nullable = true)\n",
      " |-- HourlyRelativeHumidityPercentage: integer (nullable = true)\n",
      " |-- HourlyWindDirectionRadiusDegrees: integer (nullable = true)\n",
      " |-- MaximumWindGustMs: double (nullable = true)\n",
      " |-- HourlyWindSpeedMs: double (nullable = true)\n",
      " |-- Region: string (nullable = true)\n",
      " |-- State: string (nullable = true)\n",
      " |-- Station: string (nullable = true)\n",
      " |-- StationCode: string (nullable = true)\n",
      " |-- Latitude: double (nullable = true)\n",
      " |-- Longitude: double (nullable = true)\n",
      " |-- Height: double (nullable = true)\n",
      "\n"
     ]
    }
   ],
   "source": [
    "df_all_stations.printSchema()"
   ]
  },
  {
   "cell_type": "markdown",
   "metadata": {},
   "source": [
    "### Análise descritiva das variáveis numéricas\n"
   ]
  },
  {
   "cell_type": "code",
   "execution_count": 6,
   "metadata": {},
   "outputs": [],
   "source": [
    "# Adicionar uma coluna que é a média das temperaturas máxima e mínima da última hora\n",
    "df_all_stations = df_all_stations.withColumn(\n",
    "    \"AverageTemperatureC\",\n",
    "    (col(\"LastHourMaxTemperatureC\") + col(\"LastHourMinTemperatureC\")) / 2\n",
    ")"
   ]
  },
  {
   "cell_type": "code",
   "execution_count": 7,
   "metadata": {},
   "outputs": [],
   "source": [
    "# Colunas numéricas\n",
    "numeric_columns = [\n",
    "    'TotalHourlyPrecipitationMm', 'HourlyStationLevelAtmosphericPressureMb',\n",
    "    'LastHourMaxAtmosphericPressureMb', 'LastHourMinAtmosphericPressureMb',\n",
    "    'HourlyDryBulbAirTemperatureC', 'DewPointTemperatureC',\n",
    "    'LastHourMaxTemperatureC', 'LastHourMinTemperatureC', \"AverageTemperatureC\",\n",
    "    'LastHourMaxDewPointTemperatureC', 'LastHourMinDewPointTemperatureC',\n",
    "    'LastHourMaxRelativeHumidityPercentage', 'LastHourMinRelativeHumidityPercentage',\n",
    "    'HourlyRelativeHumidityPercentage', 'HourlyWindDirectionRadiusDegrees',\n",
    "    'MaximumWindGustMs', 'HourlyWindSpeedMs','Height'\n",
    "]\n"
   ]
  },
  {
   "cell_type": "code",
   "execution_count": 8,
   "metadata": {},
   "outputs": [
    {
     "data": {
      "text/html": [
       "<div>\n",
       "<style scoped>\n",
       "    .dataframe tbody tr th:only-of-type {\n",
       "        vertical-align: middle;\n",
       "    }\n",
       "\n",
       "    .dataframe tbody tr th {\n",
       "        vertical-align: top;\n",
       "    }\n",
       "\n",
       "    .dataframe thead th {\n",
       "        text-align: right;\n",
       "    }\n",
       "</style>\n",
       "<table border=\"1\" class=\"dataframe\">\n",
       "  <thead>\n",
       "    <tr style=\"text-align: right;\">\n",
       "      <th></th>\n",
       "      <th>0</th>\n",
       "      <th>1</th>\n",
       "      <th>2</th>\n",
       "      <th>3</th>\n",
       "      <th>4</th>\n",
       "    </tr>\n",
       "  </thead>\n",
       "  <tbody>\n",
       "    <tr>\n",
       "      <th>summary</th>\n",
       "      <td>count</td>\n",
       "      <td>mean</td>\n",
       "      <td>stddev</td>\n",
       "      <td>min</td>\n",
       "      <td>max</td>\n",
       "    </tr>\n",
       "    <tr>\n",
       "      <th>TotalHourlyPrecipitationMm</th>\n",
       "      <td>49759514</td>\n",
       "      <td>0.15276609011914452</td>\n",
       "      <td>1.2644366957327162</td>\n",
       "      <td>0.0</td>\n",
       "      <td>100.0</td>\n",
       "    </tr>\n",
       "    <tr>\n",
       "      <th>HourlyStationLevelAtmosphericPressureMb</th>\n",
       "      <td>49759514</td>\n",
       "      <td>965.2958074570444</td>\n",
       "      <td>37.44976884102553</td>\n",
       "      <td>720.1</td>\n",
       "      <td>1050.0</td>\n",
       "    </tr>\n",
       "    <tr>\n",
       "      <th>LastHourMaxAtmosphericPressureMb</th>\n",
       "      <td>49759514</td>\n",
       "      <td>965.5655641713201</td>\n",
       "      <td>37.45299070576381</td>\n",
       "      <td>720.3</td>\n",
       "      <td>1050.0</td>\n",
       "    </tr>\n",
       "    <tr>\n",
       "      <th>LastHourMinAtmosphericPressureMb</th>\n",
       "      <td>49759514</td>\n",
       "      <td>965.0045343790938</td>\n",
       "      <td>37.436673636584565</td>\n",
       "      <td>720.0</td>\n",
       "      <td>1049.6</td>\n",
       "    </tr>\n",
       "    <tr>\n",
       "      <th>HourlyDryBulbAirTemperatureC</th>\n",
       "      <td>49759514</td>\n",
       "      <td>23.41319106533029</td>\n",
       "      <td>5.549682278526645</td>\n",
       "      <td>-7.7</td>\n",
       "      <td>45.0</td>\n",
       "    </tr>\n",
       "    <tr>\n",
       "      <th>DewPointTemperatureC</th>\n",
       "      <td>49759514</td>\n",
       "      <td>17.177764288453435</td>\n",
       "      <td>4.760310674870106</td>\n",
       "      <td>-27.5</td>\n",
       "      <td>44.7</td>\n",
       "    </tr>\n",
       "    <tr>\n",
       "      <th>LastHourMaxTemperatureC</th>\n",
       "      <td>49759514</td>\n",
       "      <td>24.07602705886555</td>\n",
       "      <td>5.6797061254375425</td>\n",
       "      <td>-7.6</td>\n",
       "      <td>45.0</td>\n",
       "    </tr>\n",
       "    <tr>\n",
       "      <th>LastHourMinTemperatureC</th>\n",
       "      <td>49759514</td>\n",
       "      <td>22.783562140498123</td>\n",
       "      <td>5.4138710682566815</td>\n",
       "      <td>-9.5</td>\n",
       "      <td>44.9</td>\n",
       "    </tr>\n",
       "    <tr>\n",
       "      <th>AverageTemperatureC</th>\n",
       "      <td>49759514</td>\n",
       "      <td>23.42979459968197</td>\n",
       "      <td>5.5262808169749835</td>\n",
       "      <td>-7.699999999999999</td>\n",
       "      <td>44.95</td>\n",
       "    </tr>\n",
       "    <tr>\n",
       "      <th>LastHourMaxDewPointTemperatureC</th>\n",
       "      <td>49759514</td>\n",
       "      <td>17.721601446911276</td>\n",
       "      <td>4.698454445750441</td>\n",
       "      <td>-25.1</td>\n",
       "      <td>44.7</td>\n",
       "    </tr>\n",
       "    <tr>\n",
       "      <th>LastHourMinDewPointTemperatureC</th>\n",
       "      <td>49759514</td>\n",
       "      <td>16.658636929210793</td>\n",
       "      <td>4.838334265145022</td>\n",
       "      <td>-29.8</td>\n",
       "      <td>44.6</td>\n",
       "    </tr>\n",
       "    <tr>\n",
       "      <th>LastHourMaxRelativeHumidityPercentage</th>\n",
       "      <td>49759514</td>\n",
       "      <td>74.5965881620146</td>\n",
       "      <td>19.32686890693643</td>\n",
       "      <td>7</td>\n",
       "      <td>100</td>\n",
       "    </tr>\n",
       "    <tr>\n",
       "      <th>LastHourMinRelativeHumidityPercentage</th>\n",
       "      <td>49759514</td>\n",
       "      <td>68.88761357275314</td>\n",
       "      <td>20.811254630338077</td>\n",
       "      <td>4</td>\n",
       "      <td>100</td>\n",
       "    </tr>\n",
       "    <tr>\n",
       "      <th>HourlyRelativeHumidityPercentage</th>\n",
       "      <td>49759514</td>\n",
       "      <td>71.77837253394397</td>\n",
       "      <td>20.17172398077649</td>\n",
       "      <td>6</td>\n",
       "      <td>100</td>\n",
       "    </tr>\n",
       "    <tr>\n",
       "      <th>HourlyWindDirectionRadiusDegrees</th>\n",
       "      <td>49759514</td>\n",
       "      <td>152.83574592388504</td>\n",
       "      <td>98.11964361118237</td>\n",
       "      <td>1</td>\n",
       "      <td>360</td>\n",
       "    </tr>\n",
       "    <tr>\n",
       "      <th>MaximumWindGustMs</th>\n",
       "      <td>49759514</td>\n",
       "      <td>4.929140561947011</td>\n",
       "      <td>3.0622043344447554</td>\n",
       "      <td>0.0</td>\n",
       "      <td>99.7</td>\n",
       "    </tr>\n",
       "    <tr>\n",
       "      <th>HourlyWindSpeedMs</th>\n",
       "      <td>49759514</td>\n",
       "      <td>2.0476139015338912</td>\n",
       "      <td>1.7171117796726154</td>\n",
       "      <td>0.0</td>\n",
       "      <td>29.5</td>\n",
       "    </tr>\n",
       "    <tr>\n",
       "      <th>Height</th>\n",
       "      <td>49759514</td>\n",
       "      <td>431.619381592359</td>\n",
       "      <td>346.45733199383744</td>\n",
       "      <td>0.1</td>\n",
       "      <td>2450.0</td>\n",
       "    </tr>\n",
       "  </tbody>\n",
       "</table>\n",
       "</div>"
      ],
      "text/plain": [
       "                                                0                    1  \\\n",
       "summary                                     count                 mean   \n",
       "TotalHourlyPrecipitationMm               49759514  0.15276609011914452   \n",
       "HourlyStationLevelAtmosphericPressureMb  49759514    965.2958074570444   \n",
       "LastHourMaxAtmosphericPressureMb         49759514    965.5655641713201   \n",
       "LastHourMinAtmosphericPressureMb         49759514    965.0045343790938   \n",
       "HourlyDryBulbAirTemperatureC             49759514    23.41319106533029   \n",
       "DewPointTemperatureC                     49759514   17.177764288453435   \n",
       "LastHourMaxTemperatureC                  49759514    24.07602705886555   \n",
       "LastHourMinTemperatureC                  49759514   22.783562140498123   \n",
       "AverageTemperatureC                      49759514    23.42979459968197   \n",
       "LastHourMaxDewPointTemperatureC          49759514   17.721601446911276   \n",
       "LastHourMinDewPointTemperatureC          49759514   16.658636929210793   \n",
       "LastHourMaxRelativeHumidityPercentage    49759514     74.5965881620146   \n",
       "LastHourMinRelativeHumidityPercentage    49759514    68.88761357275314   \n",
       "HourlyRelativeHumidityPercentage         49759514    71.77837253394397   \n",
       "HourlyWindDirectionRadiusDegrees         49759514   152.83574592388504   \n",
       "MaximumWindGustMs                        49759514    4.929140561947011   \n",
       "HourlyWindSpeedMs                        49759514   2.0476139015338912   \n",
       "Height                                   49759514     431.619381592359   \n",
       "\n",
       "                                                          2  \\\n",
       "summary                                              stddev   \n",
       "TotalHourlyPrecipitationMm               1.2644366957327162   \n",
       "HourlyStationLevelAtmosphericPressureMb   37.44976884102553   \n",
       "LastHourMaxAtmosphericPressureMb          37.45299070576381   \n",
       "LastHourMinAtmosphericPressureMb         37.436673636584565   \n",
       "HourlyDryBulbAirTemperatureC              5.549682278526645   \n",
       "DewPointTemperatureC                      4.760310674870106   \n",
       "LastHourMaxTemperatureC                  5.6797061254375425   \n",
       "LastHourMinTemperatureC                  5.4138710682566815   \n",
       "AverageTemperatureC                      5.5262808169749835   \n",
       "LastHourMaxDewPointTemperatureC           4.698454445750441   \n",
       "LastHourMinDewPointTemperatureC           4.838334265145022   \n",
       "LastHourMaxRelativeHumidityPercentage     19.32686890693643   \n",
       "LastHourMinRelativeHumidityPercentage    20.811254630338077   \n",
       "HourlyRelativeHumidityPercentage          20.17172398077649   \n",
       "HourlyWindDirectionRadiusDegrees          98.11964361118237   \n",
       "MaximumWindGustMs                        3.0622043344447554   \n",
       "HourlyWindSpeedMs                        1.7171117796726154   \n",
       "Height                                   346.45733199383744   \n",
       "\n",
       "                                                          3       4  \n",
       "summary                                                 min     max  \n",
       "TotalHourlyPrecipitationMm                              0.0   100.0  \n",
       "HourlyStationLevelAtmosphericPressureMb               720.1  1050.0  \n",
       "LastHourMaxAtmosphericPressureMb                      720.3  1050.0  \n",
       "LastHourMinAtmosphericPressureMb                      720.0  1049.6  \n",
       "HourlyDryBulbAirTemperatureC                           -7.7    45.0  \n",
       "DewPointTemperatureC                                  -27.5    44.7  \n",
       "LastHourMaxTemperatureC                                -7.6    45.0  \n",
       "LastHourMinTemperatureC                                -9.5    44.9  \n",
       "AverageTemperatureC                      -7.699999999999999   44.95  \n",
       "LastHourMaxDewPointTemperatureC                       -25.1    44.7  \n",
       "LastHourMinDewPointTemperatureC                       -29.8    44.6  \n",
       "LastHourMaxRelativeHumidityPercentage                     7     100  \n",
       "LastHourMinRelativeHumidityPercentage                     4     100  \n",
       "HourlyRelativeHumidityPercentage                          6     100  \n",
       "HourlyWindDirectionRadiusDegrees                          1     360  \n",
       "MaximumWindGustMs                                       0.0    99.7  \n",
       "HourlyWindSpeedMs                                       0.0    29.5  \n",
       "Height                                                  0.1  2450.0  "
      ]
     },
     "execution_count": 8,
     "metadata": {},
     "output_type": "execute_result"
    }
   ],
   "source": [
    "desc_stats = df_all_stations.select(numeric_columns).describe().toPandas().transpose()\n",
    "desc_stats"
   ]
  },
  {
   "cell_type": "markdown",
   "metadata": {},
   "source": [
    "Analisando a tabela acima é possível verificar que, todas as colunas contêm o mesmo número de observações, o que implica não existir valores omissos, isto é um comportamento esperado, uma vez que, os valores omissos foram tratados no notebook anterior. Em relação à média e desvio padrão das variáveis é bastante difícil de generalizar, uma vez que, os valores variam bastante tendo em conta a variável em conta, para além do facto, de cada variável ter uma unidade de medida própria."
   ]
  },
  {
   "cell_type": "markdown",
   "metadata": {},
   "source": [
    "### Análise descritiva de variáveis importantes\n"
   ]
  },
  {
   "cell_type": "markdown",
   "metadata": {},
   "source": [
    "#### Número de Registos por Região"
   ]
  },
  {
   "cell_type": "code",
   "execution_count": 34,
   "metadata": {},
   "outputs": [
    {
     "name": "stdout",
     "output_type": "stream",
     "text": [
      "+------+-----------------+\n",
      "|Region|Number of Records|\n",
      "+------+-----------------+\n",
      "|    SE|         13274895|\n",
      "|    NE|         12934432|\n",
      "|    CO|          8888790|\n",
      "|     S|          8796918|\n",
      "|     N|          5864479|\n",
      "+------+-----------------+\n",
      "\n"
     ]
    }
   ],
   "source": [
    "count_by_region = df_all_stations.groupBy(\"Region\").agg(\n",
    "    count(\"*\").alias(\"Number of Records\")\n",
    ").orderBy(col(\"Number of Records\").desc())\n",
    "\n",
    "count_by_region.show()"
   ]
  },
  {
   "cell_type": "markdown",
   "metadata": {},
   "source": [
    "A tabela mostra grandes variações no número de registos registados nas diferentes regiões brasileiras, o que nos indica uma disparidade no número de estações entre cada região. A região sudeste é que a regista maior número de registos enquanto a norte é a que tem menos registos."
   ]
  },
  {
   "cell_type": "markdown",
   "metadata": {},
   "source": [
    "#### Número de Registos por Estação Meteorológica"
   ]
  },
  {
   "cell_type": "code",
   "execution_count": 35,
   "metadata": {},
   "outputs": [
    {
     "name": "stdout",
     "output_type": "stream",
     "text": [
      "+--------------------+-----------------+\n",
      "|             Station|Number of Records|\n",
      "+--------------------+-----------------+\n",
      "|             VALENCA|           189499|\n",
      "|            BRASILIA|           178013|\n",
      "|        PORTO ALEGRE|           172448|\n",
      "|             GOIANIA|           158220|\n",
      "|               ARAXA|           153005|\n",
      "|           PETROLINA|           150445|\n",
      "|       MONTES CLAROS|           149264|\n",
      "|               BAURU|           148197|\n",
      "|       FLORIANOPOLIS|           147221|\n",
      "|         SANTA MARIA|           145477|\n",
      "|          UBERLANDIA|           144192|\n",
      "|            SALVADOR|           143794|\n",
      "|           ITABERABA|           143565|\n",
      "|             ITIRUCU|           143534|\n",
      "|   ECOLOGIA AGRICOLA|           142879|\n",
      "|               BELEM|           142239|\n",
      "|              MANAUS|           141211|\n",
      "|          PONTA PORA|           140105|\n",
      "|LUIZ EDUARDO MAGA...|           139754|\n",
      "|            ALMENARA|           138826|\n",
      "+--------------------+-----------------+\n",
      "only showing top 20 rows\n",
      "\n"
     ]
    }
   ],
   "source": [
    "count_by_station = df_all_stations.groupBy(\"Station\").agg(\n",
    "    count(\"*\").alias(\"Number of Records\")\n",
    ").orderBy(col(\"Number of Records\").desc())\n",
    "\n",
    "count_by_station.show()"
   ]
  },
  {
   "cell_type": "markdown",
   "metadata": {},
   "source": [
    "A tabela demonstra que a estação de Valença e que a regista o maior número de regisots seguida da estação de Brasília e Porto Alegre que têm valores relativamente próximos. Esta distribuição sugere uma grande variação no volume de dados registado por estação, que se pode explicar, talvez, pela antiguidade da implentação das estações."
   ]
  },
  {
   "cell_type": "markdown",
   "metadata": {},
   "source": [
    "#### Média da Temperatura por Ano"
   ]
  },
  {
   "cell_type": "code",
   "execution_count": 47,
   "metadata": {},
   "outputs": [
    {
     "name": "stdout",
     "output_type": "stream",
     "text": [
      "+----+-------------------+\n",
      "|Year|Average Temperature|\n",
      "+----+-------------------+\n",
      "|2021|24.01397917069357  |\n",
      "|2020|23.34789584957835  |\n",
      "|2019|23.861435282877746 |\n",
      "|2018|23.363212864566414 |\n",
      "|2017|23.582905358743727 |\n",
      "|2016|23.704758138980417 |\n",
      "|2015|24.038375720816866 |\n",
      "|2014|23.562245877936792 |\n",
      "|2013|23.274199657409014 |\n",
      "|2012|23.486330524955815 |\n",
      "|2011|22.831230316985824 |\n",
      "|2010|23.347699990556894 |\n",
      "|2009|23.32151257796619  |\n",
      "|2008|22.7818453225625   |\n",
      "|2007|22.731810829963223 |\n",
      "|2006|22.862693274978902 |\n",
      "|2005|23.87910895028759  |\n",
      "|2004|23.840810492739415 |\n",
      "|2003|23.819686942500073 |\n",
      "|2002|22.577967128952942 |\n",
      "|2001|23.280010894145256 |\n",
      "|2000|23.06669418194237  |\n",
      "+----+-------------------+\n",
      "\n"
     ]
    }
   ],
   "source": [
    "# Agrupar por ano e calcular a média da temperatura média\n",
    "avg_temp_by_year = df_all_stations.groupBy(year(\"Date\").alias(\"Year\")).agg(\n",
    "    avg(\"AverageTemperatureC\").alias(\"Average Temperature\")\n",
    ").orderBy(col(\"Year\").desc())\n",
    "\n",
    "avg_temp_by_year.show(n=avg_temp_by_year.count(), truncate=False)"
   ]
  },
  {
   "cell_type": "markdown",
   "metadata": {},
   "source": [
    "A tabela mostra a variação anual da temperatura média ao longo de vários anos. É possível observar a flutuação ao longo dos anos, embora, com uma tendência geral de ligeiro aumento ao longo do tempo. As temperaturas variam entre 22.6ºC e 24ºC, onde o valor mais alto se registou no ano de 2021."
   ]
  },
  {
   "cell_type": "markdown",
   "metadata": {},
   "source": [
    "#### Média da Temperatura por Região"
   ]
  },
  {
   "cell_type": "code",
   "execution_count": 18,
   "metadata": {},
   "outputs": [
    {
     "name": "stdout",
     "output_type": "stream",
     "text": [
      "+------+-------------------+\n",
      "|Region|Average Temperature|\n",
      "+------+-------------------+\n",
      "|     N| 26.434321642212165|\n",
      "|    NE| 25.931192444322907|\n",
      "|    CO| 24.162870716936904|\n",
      "|    SE| 22.081913355999855|\n",
      "|     S|  19.04219842676723|\n",
      "+------+-------------------+\n",
      "\n"
     ]
    }
   ],
   "source": [
    "avg_temp_by_region = df_all_stations.groupBy(\"Region\").agg(\n",
    "    avg(\"AverageTemperatureC\").alias(\"Average Temperature\")\n",
    ").orderBy(col(\"Average Temperature\").desc())  \n",
    "\n",
    "avg_temp_by_region.show()"
   ]
  },
  {
   "cell_type": "markdown",
   "metadata": {},
   "source": [
    "Tendo em conta a tabela acima, e possível perceber que a região norte regista a maior média de temperatura, com 26.4ºC, seguida pela região nordeste. As restantes regiões mostram valores progressivamente mais baixos, com as região sul aquela a apresentar uma temperatura média menor. Este padrão é consistente com as condições climáticas das regiões brasileiras, já que, onde o norte e o nordeste do país são geralmente mais quentes enquanto o sul tem temperaturas mais amenas. "
   ]
  },
  {
   "cell_type": "markdown",
   "metadata": {},
   "source": [
    "#### Precipitação Total e Média por Ano"
   ]
  },
  {
   "cell_type": "code",
   "execution_count": 49,
   "metadata": {},
   "outputs": [
    {
     "name": "stdout",
     "output_type": "stream",
     "text": [
      "+----+-------------------+---------------------+\n",
      "|Year|Total Precipitation|Average Precipitation|\n",
      "+----+-------------------+---------------------+\n",
      "|2021|153510.9999999698  |0.1877805803532833   |\n",
      "|2020|512770.79999990336 |0.15449612954307257  |\n",
      "|2019|606981.599999815   |0.14703559265492921  |\n",
      "|2018|616526.7999998596  |0.15168121414484784  |\n",
      "|2017|578109.9999998764  |0.15290707531459044  |\n",
      "|2016|514686.99999990134 |0.14271450001522326  |\n",
      "|2015|499501.39999989583 |0.1434458497024536   |\n",
      "|2014|517977.5999998969  |0.14836094169159894  |\n",
      "|2013|590161.9999998495  |0.1633151060979648   |\n",
      "|2012|472417.9999998962  |0.13390923827988635  |\n",
      "|2011|554112.1999999371  |0.16888181124114796  |\n",
      "|2010|467859.59999990807 |0.14205790110832586  |\n",
      "|2009|590505.5999998706  |0.17932468270760715  |\n",
      "|2008|437473.59999997437 |0.15500468585296676  |\n",
      "|2007|198974.7999999852  |0.13141014337406587  |\n",
      "|2006|97320.20000000359  |0.17091830641592773  |\n",
      "|2005|56923.60000000292  |0.15729139898149186  |\n",
      "|2004|56229.00000000268  |0.180802968526935    |\n",
      "|2003|46856.20000000159  |0.1607527103060299   |\n",
      "|2002|19413.199999999815 |0.17302934150949958  |\n",
      "|2001|10952.599999999933 |0.18078668933529096  |\n",
      "|2000|2299.6000000000013 |0.13091198906979398  |\n",
      "+----+-------------------+---------------------+\n",
      "\n"
     ]
    }
   ],
   "source": [
    "precipitation_by_year = df_all_stations.groupBy(year(\"Date\").alias(\"Year\")).agg(\n",
    "    sum(\"TotalHourlyPrecipitationMm\").alias(\"Total Precipitation\"),\n",
    "    avg(\"TotalHourlyPrecipitationMm\").alias(\"Average Precipitation\")\n",
    ").orderBy(col(\"Year\").desc())\n",
    "\n",
    "precipitation_by_year.show(n=precipitation_by_year.count(), truncate=False)"
   ]
  },
  {
   "cell_type": "markdown",
   "metadata": {},
   "source": [
    "A tabela demonstra que o ano de 2021 apresenta uma precipitação total bastante baixa em relação aos restantes anos,no entanto, isto só acontece pois apenas existem dados até abril desse mesmo ano, ainda assim, apresenta a média de precipitação mais alta, o que pode ser explicado pela falta de dados relativa aos outros meses. É possível verificar, também que, a média tende a ser mais alta em anos com menor participação total, sugerindo que anos mais secos tendem a ter eventos de chiva mais intensos por curtos períodos, enquanto anos mais chuvosos distribuem a sua precipitação de uma maneira mais uniforme."
   ]
  },
  {
   "cell_type": "markdown",
   "metadata": {},
   "source": [
    "#### Precipitação Total e Média por Região"
   ]
  },
  {
   "cell_type": "code",
   "execution_count": 17,
   "metadata": {},
   "outputs": [
    {
     "name": "stdout",
     "output_type": "stream",
     "text": [
      "+------+-------------------+---------------------+\n",
      "|Region|Total Precipitation|Average Precipitation|\n",
      "+------+-------------------+---------------------+\n",
      "|     N| 1325296.8000010434|  0.22598713372510046|\n",
      "|     S| 1641529.2000010447|   0.1866027624676102|\n",
      "|    CO| 1385569.8000002718|  0.15587833664652576|\n",
      "|    SE| 1946731.8000017058|  0.14664762320166794|\n",
      "|    NE| 1302438.8000004084|   0.1006954770028099|\n",
      "+------+-------------------+---------------------+\n",
      "\n"
     ]
    }
   ],
   "source": [
    "precipitation_summary = df_all_stations.groupBy(\"Region\").agg(\n",
    "    sum(\"TotalHourlyPrecipitationMm\").alias(\"Total Precipitation\"),\n",
    "    avg(\"TotalHourlyPrecipitationMm\").alias(\"Average Precipitation\")\n",
    ").orderBy(col(\"Average Precipitation\").desc())\n",
    "\n",
    "precipitation_summary.show()"
   ]
  },
  {
   "cell_type": "markdown",
   "metadata": {},
   "source": [
    "A tabela acima revela que a região norte é a que tem uma maior média de precipitação, o que está de acordo com o seu clima mais chuvoso. A região nordeste apresenta a média mais baixa, refletindo condições mais secas, as restantes regiões mostram médias intermediárias."
   ]
  },
  {
   "cell_type": "markdown",
   "metadata": {},
   "source": [
    "#### Média da Pressão Atmosférica por Ano"
   ]
  },
  {
   "cell_type": "code",
   "execution_count": 50,
   "metadata": {},
   "outputs": [
    {
     "name": "stdout",
     "output_type": "stream",
     "text": [
      "+----+----------------------------+\n",
      "|Year|Average Atmospheric Pressure|\n",
      "+----+----------------------------+\n",
      "|2021|957.9672361657883           |\n",
      "|2020|962.2817993316169           |\n",
      "|2019|965.4528882468895           |\n",
      "|2018|965.4625021957719           |\n",
      "|2017|965.6291658654668           |\n",
      "|2016|966.7706190921162           |\n",
      "|2015|966.4137845762514           |\n",
      "|2014|966.7708289438913           |\n",
      "|2013|966.3643847477864           |\n",
      "|2012|965.9900454860181           |\n",
      "|2011|964.4923064004962           |\n",
      "|2010|965.3119595511387           |\n",
      "|2009|965.9698935085712           |\n",
      "|2008|963.8455885484424           |\n",
      "|2007|960.660547263798            |\n",
      "|2006|962.0436207841346           |\n",
      "|2005|969.1448279768658           |\n",
      "|2004|974.2131075640814           |\n",
      "|2003|972.3525620968851           |\n",
      "|2002|960.4224170202139           |\n",
      "|2001|969.5007790964502           |\n",
      "|2000|972.788415120118            |\n",
      "+----+----------------------------+\n",
      "\n"
     ]
    }
   ],
   "source": [
    "pressure_by_year = df_all_stations.groupBy(year(\"Date\").alias(\"Year\")).agg(\n",
    "    avg(\"HourlyStationLevelAtmosphericPressureMb\").alias(\"Average Atmospheric Pressure\")\n",
    ").orderBy(col(\"Year\").desc())\n",
    "\n",
    "pressure_by_year.show(n=pressure_by_year.count(), truncate=False)"
   ]
  },
  {
   "cell_type": "markdown",
   "metadata": {},
   "source": [
    "A tabela mostra que a média da pressão atmosférica não variou muito ao longo dos anos apresentando valores relativamente estáveis com ligeiras flutuações."
   ]
  },
  {
   "cell_type": "markdown",
   "metadata": {},
   "source": [
    "#### Média da Pressão Atmosférica por Região"
   ]
  },
  {
   "cell_type": "code",
   "execution_count": 22,
   "metadata": {},
   "outputs": [
    {
     "name": "stdout",
     "output_type": "stream",
     "text": [
      "+------+----------------------------+\n",
      "|Region|Average Atmospheric Pressure|\n",
      "+------+----------------------------+\n",
      "|     N|           992.9902360124394|\n",
      "|    NE|           979.8653690397847|\n",
      "|     S|           961.0452742540027|\n",
      "|    CO|           954.4505846352632|\n",
      "|    SE|           948.9438967238226|\n",
      "+------+----------------------------+\n",
      "\n"
     ]
    }
   ],
   "source": [
    "avg_pressure_by_region = df_all_stations.groupBy(\"Region\").agg(\n",
    "    avg(\"HourlyStationLevelAtmosphericPressureMb\").alias(\"Average Atmospheric Pressure\")\n",
    ").orderBy(col(\"Average Atmospheric Pressure\").desc())\n",
    "\n",
    "avg_pressure_by_region.show()"
   ]
  },
  {
   "cell_type": "markdown",
   "metadata": {},
   "source": [
    "A tabela destaca as diferenças na pressão atmosférica média entre as regiões do Brasil. A região norte apresenta uma maior média enquanto a sudeste apresenta a menor."
   ]
  },
  {
   "cell_type": "markdown",
   "metadata": {},
   "source": [
    "#### Média da Humidade Relativa por Ano\n"
   ]
  },
  {
   "cell_type": "code",
   "execution_count": 51,
   "metadata": {},
   "outputs": [
    {
     "name": "stdout",
     "output_type": "stream",
     "text": [
      "+----+-------------------------+\n",
      "|Year|Average Relative Humidity|\n",
      "+----+-------------------------+\n",
      "|2021|74.32178392224117        |\n",
      "|2020|71.0817764330573         |\n",
      "|2019|71.08771968498063        |\n",
      "|2018|72.05045512227213        |\n",
      "|2017|70.64339544640502        |\n",
      "|2016|70.69502247387291        |\n",
      "|2015|71.1598214901096         |\n",
      "|2014|71.59834607631352        |\n",
      "|2013|72.61772174317309        |\n",
      "|2012|70.47650058944464        |\n",
      "|2011|72.98580186616236        |\n",
      "|2010|71.74670975025225        |\n",
      "|2009|75.04993499731698        |\n",
      "|2008|72.16493174953274        |\n",
      "|2007|70.08709369144822        |\n",
      "|2006|73.11832362714175        |\n",
      "|2005|71.98524450191904        |\n",
      "|2004|73.49974276196478        |\n",
      "|2003|71.97749759846302        |\n",
      "|2002|70.73321687047667        |\n",
      "|2001|72.3245795025007         |\n",
      "|2000|72.38346806330411        |\n",
      "+----+-------------------------+\n",
      "\n"
     ]
    }
   ],
   "source": [
    "avg_humidity_by_year = df_all_stations.groupBy(year(\"Date\").alias(\"Year\")).agg(\n",
    "    avg(\"HourlyRelativeHumidityPercentage\").alias(\"Average Relative Humidity\")\n",
    ").orderBy(col(\"Year\").desc())\n",
    "\n",
    "avg_humidity_by_year.show(n=avg_humidity_by_year.count(), truncate=False)"
   ]
  },
  {
   "cell_type": "markdown",
   "metadata": {},
   "source": [
    "Os dados da tabela indicam uma tendência de ligeira elevação da humidade ao longo do tempo, com os valores a oscilar entre 70% e 75%."
   ]
  },
  {
   "cell_type": "markdown",
   "metadata": {},
   "source": [
    "#### Média da Humidade Relativa por Região\n"
   ]
  },
  {
   "cell_type": "code",
   "execution_count": 26,
   "metadata": {},
   "outputs": [
    {
     "name": "stdout",
     "output_type": "stream",
     "text": [
      "+------+-------------------------+\n",
      "|Region|Average Relative Humidity|\n",
      "+------+-------------------------+\n",
      "|     S|        76.83653013475856|\n",
      "|     N|        76.28801859466118|\n",
      "|    SE|        72.12860252378644|\n",
      "|    CO|        68.86778774163862|\n",
      "|    NE|        67.93432189368656|\n",
      "+------+-------------------------+\n",
      "\n"
     ]
    }
   ],
   "source": [
    "avg_humidity_by_region = df_all_stations.groupBy(\"Region\").agg(\n",
    "    avg(\"HourlyRelativeHumidityPercentage\").alias(\"Average Relative Humidity\")\n",
    ").orderBy(col(\"Average Relative Humidity\").desc())\n",
    "\n",
    "avg_humidity_by_region.show()"
   ]
  },
  {
   "cell_type": "markdown",
   "metadata": {},
   "source": [
    "A tabela mostra que as regiões sul e norte apresentam as maiores médias de humidade, com valores bastante próximos, enquanto a região nordeste apresenta a menor média. Isto sugere que as regiões sul e norte podem experienciar condições atmosféricas mais húmidas, contrastando com o clima mais seco do nordeste."
   ]
  },
  {
   "cell_type": "markdown",
   "metadata": {},
   "source": [
    "### Média da Direção do Vento por Ano\n"
   ]
  },
  {
   "cell_type": "code",
   "execution_count": 52,
   "metadata": {},
   "outputs": [
    {
     "name": "stdout",
     "output_type": "stream",
     "text": [
      "+----+----------------------+\n",
      "|Year|Average Wind Direction|\n",
      "+----+----------------------+\n",
      "|2021|160.85627925069298    |\n",
      "|2020|160.1912317851104     |\n",
      "|2019|157.6866976234016     |\n",
      "|2018|157.13915316110575    |\n",
      "|2017|152.94833782225052    |\n",
      "|2016|154.41770015056525    |\n",
      "|2015|150.60321380981918    |\n",
      "|2014|148.08203168187288    |\n",
      "|2013|150.17701265206273    |\n",
      "|2012|148.17899133676522    |\n",
      "|2011|150.76241738581834    |\n",
      "|2010|150.80207248159448    |\n",
      "|2009|153.11048208880754    |\n",
      "|2008|152.5540573817686     |\n",
      "|2007|151.1217243194371     |\n",
      "|2006|148.4630204637897     |\n",
      "|2005|142.4745771610311     |\n",
      "|2004|150.0503061132619     |\n",
      "|2003|148.44363249622614    |\n",
      "|2002|153.21273485685765    |\n",
      "|2001|152.9347341663503     |\n",
      "|2000|159.29187065922807    |\n",
      "+----+----------------------+\n",
      "\n"
     ]
    }
   ],
   "source": [
    "avg_wind_direction_by_year = df_all_stations.groupBy(year(\"Date\").alias(\"Year\")).agg(\n",
    "    avg(\"HourlyWindDirectionRadiusDegrees\").alias(\"Average Wind Direction\")\n",
    ").orderBy(col(\"Year\").desc())\n",
    "\n",
    "avg_wind_direction_by_year.show(n=avg_wind_direction_by_year.count(), truncate=False)"
   ]
  },
  {
   "cell_type": "markdown",
   "metadata": {},
   "source": [
    "Nesta tabela, é possível perceber que as médias anuais oscilam ligeiramente ao longo dos anos, indicando pequenas variações nos padrões de vento. Os valores mantêm-se na faixa de 148 a 161 graus."
   ]
  },
  {
   "cell_type": "markdown",
   "metadata": {},
   "source": [
    "#### Média da Direção do Vento por Região\n"
   ]
  },
  {
   "cell_type": "code",
   "execution_count": 27,
   "metadata": {},
   "outputs": [
    {
     "name": "stdout",
     "output_type": "stream",
     "text": [
      "+------+----------------------+\n",
      "|Region|Average Wind Direction|\n",
      "+------+----------------------+\n",
      "|    CO|    169.39805575337024|\n",
      "|     S|    158.86019001200194|\n",
      "|    SE|    155.02657904262142|\n",
      "|     N|    152.28756433435944|\n",
      "|    NE|    135.35653115652855|\n",
      "+------+----------------------+\n",
      "\n"
     ]
    }
   ],
   "source": [
    "avg_wind_direction_by_region = df_all_stations.groupBy(\"Region\").agg(\n",
    "    avg(\"HourlyWindDirectionRadiusDegrees\").alias(\"Average Wind Direction\")\n",
    ").orderBy(col(\"Average Wind Direction\").desc())\n",
    "\n",
    "avg_wind_direction_by_region.show()"
   ]
  },
  {
   "cell_type": "markdown",
   "metadata": {},
   "source": [
    "Na tabela é possível perceber que a região centro regista a maior média de direção do vento, aproximadamente 169.4º, sugerindo ventos que predominam de uma direção mais ao sul. Por outro lado, a região nordeste apresenta a menor média, cerca de 135.4º, indicando uma predominância de ventos de uma direção mais ao sudeste."
   ]
  },
  {
   "cell_type": "markdown",
   "metadata": {},
   "source": [
    "#### Média da Temperatura do Ponto de Orvalho por Ano\n"
   ]
  },
  {
   "cell_type": "code",
   "execution_count": 46,
   "metadata": {},
   "outputs": [
    {
     "name": "stdout",
     "output_type": "stream",
     "text": [
      "+----+-----------------------------+\n",
      "|Year|Average Dew Point Temperature|\n",
      "+----+-----------------------------+\n",
      "|2021|18.504984819608772           |\n",
      "|2020|16.874844651442135           |\n",
      "|2019|17.372899065363185           |\n",
      "|2018|17.207445809229103           |\n",
      "|2017|16.998025387795447           |\n",
      "|2016|17.152111934028493           |\n",
      "|2015|17.55166548923658            |\n",
      "|2014|17.284736378702256           |\n",
      "|2013|17.271427563343313           |\n",
      "|2012|16.868397716826884           |\n",
      "|2011|16.919815090527194           |\n",
      "|2010|17.08926366723235            |\n",
      "|2009|17.997507395364813           |\n",
      "|2008|16.627906212077022           |\n",
      "|2007|16.020131215446543           |\n",
      "|2006|17.100717778136886           |\n",
      "|2005|17.840883506171817           |\n",
      "|2004|18.185355760202782           |\n",
      "|2003|17.76026828598892            |\n",
      "|2002|16.224641698456196           |\n",
      "|2001|17.422435336645584           |\n",
      "|2000|17.16485255607426            |\n",
      "+----+-----------------------------+\n",
      "\n"
     ]
    }
   ],
   "source": [
    "avg_dew_point_by_year = df_all_stations.groupBy(year(\"Date\").alias(\"Year\")).agg(\n",
    "    avg(\"DewPointTemperatureC\").alias(\"Average Dew Point Temperature\")\n",
    ").orderBy(col(\"Year\").desc())\n",
    "\n",
    "avg_dew_point_by_year.show(n=avg_dew_point_by_year.count(), truncate=False)"
   ]
  },
  {
   "cell_type": "markdown",
   "metadata": {},
   "source": [
    "Na tabela acima que mostra a média anual da temperatura do ponto de orvalho ao longo dos anos é possível observar variações moderadas nos valores, com uma tendência de variação entre 16ºC e 18ºC."
   ]
  },
  {
   "cell_type": "markdown",
   "metadata": {},
   "source": [
    "#### Média da Temperatura do Ponto de Orvalho por Região\n"
   ]
  },
  {
   "cell_type": "code",
   "execution_count": 30,
   "metadata": {},
   "outputs": [
    {
     "name": "stdout",
     "output_type": "stream",
     "text": [
      "+------+-----------------------------+\n",
      "|Region|Average Dew Point Temperature|\n",
      "+------+-----------------------------+\n",
      "|     N|            21.27023805524776|\n",
      "|    NE|           18.552767558714176|\n",
      "|    CO|            17.05682287465467|\n",
      "|    SE|           16.010340119451296|\n",
      "|     S|           14.311685888171214|\n",
      "+------+-----------------------------+\n",
      "\n"
     ]
    }
   ],
   "source": [
    "avg_dew_point_by_region = df_all_stations.groupBy(\"Region\").agg(\n",
    "    avg(\"DewPointTemperatureC\").alias(\"Average Dew Point Temperature\")\n",
    ").orderBy(col(\"Average Dew Point Temperature\").desc())\n",
    "\n",
    "avg_dew_point_by_region.show()"
   ]
  },
  {
   "cell_type": "markdown",
   "metadata": {},
   "source": [
    "É possível concluir que a região norte possui a maior média de temperatura do ponto de orvalho, aproximadamente 21.3°C, o que nos  indica que esta região tem um ambiente mais húmido. Em contraste, a região sul tem a menor média, cerca de 14.3°C, o que sugere que o clima desta região é mais seco."
   ]
  },
  {
   "cell_type": "markdown",
   "metadata": {},
   "source": [
    "### Conclusão e Considerações Finais"
   ]
  },
  {
   "cell_type": "markdown",
   "metadata": {},
   "source": [
    "- Humidade e Temperatura por Região - A região norte mostra maiores médias de temperatura e humidade, o que indica maior probabilidade de precipitação.\n",
    "A região sul apresenta temperaturas e humidade mais baixas, o que contribui para um clima mais ameno e menos propenso a chuvas intensas.\n",
    "\n",
    "- Pressão Atmosférica - Existem variações significativas na pressão atmosférica entre regiões, com valores mais altos no norte e mais baixos no sudeste, o que irá influenciar os padrões de vento e precipitação.\n",
    "\n",
    "- Direção do Vento - As variações na direção do vento ao longo dos anos em cada região irá reflitir mudanças nos padrões climáticos de cada região, o que pode afetar a distribuição de massas de ar húmido e os padrões de precipitação.\n",
    "\n",
    "Assim estas variáveis podem influenciar os nossos modelos da seguinte maneira:\n",
    "\n",
    "- Humidade Relativa - No caso do modelo de forma a prever a temperatura, a humidade influencia a retenção de calor afetando, assim, as temperaturas mínimas. No caso do modelo de previsão de chuva, uma alta humidade pode indicar maior probabilidade de precipitação.\n",
    "\n",
    "- Pressão Atmosférica - Para prever a temperatura, uma baixa pressão atmosférica geralmente coincide com temperaturas mais elevadas. Para prever se chove,  uma baixa pressão atmosférica está associada a condições instáveis e consequente precipitação.\n",
    "\n",
    "- Direção do Vento - No caso da previsão da temperatura, a direção do vento pode influenciar, já que, ventos provenientes de áreas quentes ou frias podem influenciar as temperaturas. Na previsão de chuva, o vento pode trazer ar húmido que pode aumentar a probabilidade de chuva."
   ]
  }
 ],
 "metadata": {
  "kernelspec": {
   "display_name": "vscode_pyspark",
   "language": "python",
   "name": "vscode_pyspark"
  },
  "language_info": {
   "codemirror_mode": {
    "name": "ipython",
    "version": 3
   },
   "file_extension": ".py",
   "mimetype": "text/x-python",
   "name": "python",
   "nbconvert_exporter": "python",
   "pygments_lexer": "ipython3",
   "version": "3.11.9"
  }
 },
 "nbformat": 4,
 "nbformat_minor": 2
}
